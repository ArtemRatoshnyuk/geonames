{
 "cells": [
  {
   "cell_type": "markdown",
   "id": "da47c4b2",
   "metadata": {},
   "source": [
    " # Сопоставление геоназваний с унифицированными именами"
   ]
  },
  {
   "cell_type": "markdown",
   "id": "7090ea14",
   "metadata": {},
   "source": [
    "## Содержание\n",
    "\n",
    "**[1. Обзор данных](#1)**\n",
    "\n",
    "- **[1.1 Ввод функций и констант](#1.1)**\n",
    "- **[1.2 Подготовка к загрузке данных в SQL](#1.2)**\n",
    "\n",
    "\n",
    "**[2. Исследование данных](#2)**\n",
    "\n",
    "- **[2.1. Тестовый датсет](#2.1)**\n",
    "- **[2.2. Датасет с различными гео-показателями о всех городах с населением 15 000+ или столицах](#2.2)**\n",
    "- **[2.3. Названия административных подразделений на английском языке](#2.3)**\n",
    "- **[2.4. Обучающий датасет с альтернативными именами и кодами языков](#2.4)**\n",
    "\n",
    "\n",
    "**[3. Обучение](#3)**\n",
    "\n",
    "- **[3.1. Евклидово расстояние для кириллицы](#3.1)**\n",
    "- **[3.2. Косинусное расстояние](#3.2)**\n",
    "- **[3.3. Евклидово расстояние с переводом в латиницу](#3.3)**\n",
    "- **[3.4. Расстояние Левенштейна для русского текста](#3.4)**\n",
    "- **[3.5. Расстояние Левенштейна с переводом в латиницу](#3.5)**\n",
    "\n",
    "**[4. Проверка точности модели](#4)**\n",
    "\n",
    "**[5. Формирование словаря ответов](#5)**\n"
   ]
  },
  {
   "cell_type": "markdown",
   "id": "cf6b897f",
   "metadata": {},
   "source": [
    "**Заказчик.** Карьерный центр Яндекс Практикум\n",
    "\n",
    "**Цель.** Сопоставление произвольных гео-названий с унифицированными именами geonames для внутреннего использования Карьерным центром\n",
    "\n",
    "**Цель исследования.** Разработка модели, которая достигнет наилучшего значения по метрике классификации `accuracy`.\n",
    "\n",
    "**Задачи:**\n",
    "- загрузить и ознакомится с данными,\n",
    "- провести предварительную обработку,\n",
    "- сделать полноценный разведочный анализ,\n",
    "- создать решение для подбора наиболее подходящих названий с geonames. Например, `Ереван -> Yerevan`,\n",
    "- разработку решения вести на примере РФ и стран наиболее популярных для релокации: `Беларусь, Армения, Казахстан, Кыргызстан, Турция, Сербия`. Города с населением от `15000 человек`,\n",
    "- предусмотреть возможность масштабирования разработанного решения на сервере заказчика,\n",
    "- обеспечить возврат полей `geonameid, name, region, country, cosine similarity`. Обеспечить формат данных на выходе: список словарей. Например `[{dict_1}, {dict_2}, …. {dict_n}]` где словарь - одна запись с указанными полями\n",
    "\n",
    "**Входные данные.**\n",
    "\n",
    "Четыре файла в формате `.csv` и `.txt` с данными о гео-названиях:\n",
    "\n",
    "1. `geo_test.csv` – тестовый датасет (345 строк).\n",
    "2. `admin1CodesASCII.tx` – датасет с названиями административных подразделений на английском языке (~ 3 800)\n",
    "3. `alternateNamesV2.txt` – обучающий датасет с альтернативными именами и кодами языков (~ 16 000 000)\n",
    "4. `cities15000.txt` – датасет с различными гео-показателями о всех городах с населением 15 000+ или столицах (~ 27 000)\n",
    "\n",
    "**Формальная задача.** Определить правильное название территории и преобразовать его в формат имени geonames\n",
    "\n",
    "**Ожидаемый результат.** Построена модель для определения имени в формате geonamesс наилучшим значением метрики классификации `accuracy`.\n"
   ]
  },
  {
   "cell_type": "markdown",
   "id": "7b7b7736",
   "metadata": {},
   "source": [
    "## Обзор данных <a id='1'></a>"
   ]
  },
  {
   "cell_type": "markdown",
   "id": "0d9f478e",
   "metadata": {},
   "source": [
    "**Название файла 1**\n",
    "\n",
    "`geo_test.csv`\n",
    "\n",
    "**Признаки**\n",
    "\n",
    "`query` – запрос название географического места\n",
    "\n",
    "**Целевые признаки**\n",
    "\n",
    "- `name` – имя географического места\n",
    "- `region` – регион / область географического места\n",
    "- `country` – страна географического места\n",
    "\n",
    "\n",
    "**Название файла 2**\n",
    "\n",
    "`admin1CodesASCII.txt`\n",
    "\n",
    "- `code` – код названия административного подразделения\n",
    "- `name` - название географической точки на родном языке\n",
    "- `name ascii` - название географической точки на английском языке\n",
    "- `geonameid` - идентификатор записи в базе данных геоназваний\n",
    "\n",
    "\n",
    "**Название файла 3**\n",
    "\n",
    "`alternateNamesV2.txt`\n",
    "\n",
    "- `alternateNameId` - идентификатор альтернативного имени\n",
    "- `geonameid` - идентификатор записи в базе данных геоназваний\n",
    "- `isolanguage`  - код языка ISO 639\n",
    "- `alternate name` - альтернативное имя или вариант имени\n",
    "- `isPreferredName` - '1', если это альтернативное имя является официальным/предпочтительным именем.\n",
    "- `isShortName` - «1», если это короткое имя, например «Калифорния» для «Штата Калифорния».\n",
    "- `isColloquial`  - '1', если это альтернативное имя является разговорным или жаргонным термином. Пример - «Большое яблоко» вместо «Нью-Йорк».\n",
    "- `isHistoric`  - '1', если это альтернативное имя является историческим и использовалось в прошлом. Пример «Бомбей» вместо «Мумбаи».\n",
    "- `from`  - периода, с которого использовалось имя\n",
    "- `to`  - период, до которого использовалось имя\n",
    "\n",
    "\n",
    "**Название файла 4**\n",
    "\n",
    "`cities15000.txt`\n",
    "\n",
    "**Признаки**\n",
    "\n",
    "- `alternatenames` - альтернативные имена, разделенные запятыми\n",
    "- `latitude` - широта в десятичных градусах\n",
    "- `longitude` - долгота в десятичных градусах\n",
    "- `feature class` \n",
    "- `feature code` \n",
    "- `country code` - код страны\n",
    "- `cc2` - альтернативные коды страны\n",
    "- `admin1 code` - код первой административной единицы \n",
    "- `admin2 code` - код второй административной единицы\n",
    "- `admin3 code` - код административной единицы третьего уровня\n",
    "- `admin4 code` - код административной единицы четвертого уровня\n",
    "- `population` – численность населения\n",
    "- `elevation` – высота над уровнем моря\n",
    "- `dem` - цифровая модель рельефа\n",
    "- `timezone` - идентификатор часового пояса\n",
    "- `modification date` - дата последней модификации\n",
    "\n",
    "**Целевой признак**\n",
    "\n",
    "- `geonameid` - идентификатор записи в базе данных геоназваний.\n",
    "- `name` - название географической точки\n",
    "- `asciiname` - название географической точки простыми символами\n"
   ]
  },
  {
   "cell_type": "code",
   "execution_count": 1,
   "id": "d0fd1535",
   "metadata": {},
   "outputs": [],
   "source": [
    "# Импорт библиотек\n",
    "import pandas as pd\n",
    "import numpy as np\n",
    "from datetime import datetime, timedelta\n",
    "import re\n",
    "\n",
    "from sqlalchemy import create_engine\n",
    "from sqlalchemy import text\n",
    "from sqlalchemy.engine.url import URL\n",
    "\n",
    "from sklearn.feature_extraction.text import CountVectorizer\n",
    "from sklearn.metrics.pairwise import cosine_similarity\n",
    "from scipy.spatial import distance\n",
    "from sklearn.metrics.pairwise import euclidean_distances\n",
    "\n",
    "from fuzzywuzzy import fuzz\n",
    "from fuzzywuzzy import process # расстояние Левенштейна\n",
    "\n",
    "from sentence_transformers import SentenceTransformer, util\n",
    "import torch\n",
    "\n",
    "from sklearn.metrics import accuracy_score\n"
   ]
  },
  {
   "cell_type": "markdown",
   "id": "39859089",
   "metadata": {},
   "source": [
    "### Ввод функций и констант <a id='1.1'></a>"
   ]
  },
  {
   "cell_type": "code",
   "execution_count": 2,
   "id": "7e78c5db",
   "metadata": {},
   "outputs": [],
   "source": [
    "# Функция исследования датасета\n",
    "def info_df(df_name):\n",
    "    st = df_name.shape[0]\n",
    "    col = df_name.shape[1]\n",
    "    zerro = df_name.isna().sum()\n",
    "    print(f'Размер таблиы: {col} столбцов и {st} строк')\n",
    "    print(f'Общее количество пропусков - {zerro.sum()}')\n",
    "    if len(zerro.loc[lambda x: x!=0]) != 0:\n",
    "        print (zerro.loc[lambda x: x!=0])\n",
    "    print()\n",
    "    print(f'Количество явных дубликатов: {df_name.duplicated().sum()}')\n",
    "    print()\n",
    "    print(df_name.info())\n",
    "    print()\n",
    "    display(df_name.describe().round(2))"
   ]
  },
  {
   "cell_type": "code",
   "execution_count": 3,
   "id": "74f34f1a",
   "metadata": {},
   "outputs": [],
   "source": [
    "# Функция создания словаря из списка и ключа. Для преобразования вложенного списка в плоский\n",
    "def alternatenames(text, geonameid):\n",
    "    list_text = text.split(',')\n",
    "    dict_text = {}\n",
    "    for i in list_text:\n",
    "        dict_text[i] = geonameid\n",
    "    return dict_text\n",
    "    "
   ]
  },
  {
   "cell_type": "code",
   "execution_count": 4,
   "id": "4a020c27",
   "metadata": {},
   "outputs": [],
   "source": [
    "# Функция для очистки текста\n",
    "def clear_text(text):\n",
    "    text = text.lower()\n",
    "    t_str = re.sub(r'[^a-zA-Zа-яА-ЯёЁ0-9-]', \" \", text)\n",
    "    t_str = \" \".join(t_str.split())\n",
    "    return t_str"
   ]
  },
  {
   "cell_type": "code",
   "execution_count": 5,
   "id": "8dd31af3",
   "metadata": {},
   "outputs": [],
   "source": [
    "# Функция для транслитирования текста из кириллицы в латинницу\n",
    "def translit(text):\n",
    "    legend = {\n",
    "        'а': 'a',\n",
    "        'б': 'b',\n",
    "        'в': 'v',\n",
    "        'г': 'g',\n",
    "        'д': 'd',\n",
    "        'е': 'e',\n",
    "        'ё': 'yo',\n",
    "        'ж': 'zh',\n",
    "        'з': 'z',\n",
    "        'и': 'i',\n",
    "        'й': 'y',\n",
    "        'к': 'k',\n",
    "        'л': 'l',\n",
    "        'м': 'm',\n",
    "        'н': 'n',\n",
    "        'о': 'o',\n",
    "        'п': 'p',\n",
    "        'р': 'r',\n",
    "        'с': 's',\n",
    "        'т': 't',\n",
    "        'у': 'u',\n",
    "        'ф': 'f',\n",
    "        'х': 'h',\n",
    "        'ц': 'ts',\n",
    "        'ч': 'ch',\n",
    "        'ш': 'sh',\n",
    "        'щ': 'shch',\n",
    "        'ъ': 'y',\n",
    "        'ы': 'y',\n",
    "        'ь': \"'\",\n",
    "        'э': 'e',\n",
    "        'ю': 'yu',\n",
    "        'я': 'ya',\n",
    "        }\n",
    "    new_text = ''\n",
    "    text = text.lower()\n",
    "    for i in text:\n",
    "        if i in legend:\n",
    "            new_text += legend[i]\n",
    "        elif i == ' ':\n",
    "            new_text += ' '\n",
    "        else:\n",
    "            new_text += i\n",
    "\n",
    "    return new_text"
   ]
  },
  {
   "cell_type": "code",
   "execution_count": 6,
   "id": "fc4c56df",
   "metadata": {},
   "outputs": [],
   "source": [
    "# Расположение файлов\n",
    "patch = 'C:\\\\Users\\\\User\\\\first_notebook\\\\Praktikum\\\\geonames\\\\data_base\\\\'\n",
    "patch_1 = '' "
   ]
  },
  {
   "cell_type": "code",
   "execution_count": 7,
   "id": "83a0175c",
   "metadata": {},
   "outputs": [],
   "source": [
    "# Коды исследуемых стран\n",
    "country_code = ['RU', 'BY', 'AM', 'KZ', 'KG', 'RS', 'TR']\n",
    "\n",
    "# Названия исследуемых стран\n",
    "country_name = {'RU': 'Russia', \n",
    "                'BY': 'Belarus', \n",
    "                'AM': 'Armenia', \n",
    "                'KZ': 'Kazakhstan', \n",
    "                'KG': 'Kyrgyzstan', \n",
    "                'RS': 'Serbia', \n",
    "                'TR': 'Turkey'}\n",
    "\n",
    "# Пароль на серевер\n",
    "password_sql = ''"
   ]
  },
  {
   "cell_type": "markdown",
   "id": "442764c6",
   "metadata": {},
   "source": [
    "### Подготовка к загрузке данных в SQL <a id='1.2'></a>"
   ]
  },
  {
   "cell_type": "code",
   "execution_count": 8,
   "id": "6ec8128f",
   "metadata": {},
   "outputs": [],
   "source": [
    "DATABASE = {\n",
    "    'drivername': 'postgresql',\n",
    "    'username': 'postgres', \n",
    "    'password': password_sql, \n",
    "    'host': 'localhost',\n",
    "    'port': '5432',\n",
    "    'database': 'postgres',\n",
    "    'query': {}\n",
    "}  \n",
    "\n",
    "engine = create_engine(URL(**DATABASE))"
   ]
  },
  {
   "cell_type": "markdown",
   "id": "7ac49765",
   "metadata": {},
   "source": [
    "## Исследование данных<a id='2'></a>"
   ]
  },
  {
   "cell_type": "markdown",
   "id": "fbf1fd8a",
   "metadata": {},
   "source": [
    "### Тестовый датсет <a id='2.1'></a>"
   ]
  },
  {
   "cell_type": "code",
   "execution_count": 9,
   "id": "e9a79892",
   "metadata": {},
   "outputs": [],
   "source": [
    "# Чтение файла\n",
    "try:\n",
    "    df_test = pd.read_csv(patch + 'geo_test.csv', sep=';')\n",
    "except FileNotFoundError:\n",
    "    df_test = pd.read_csv(patch_1 + 'geo_test.csv', sep=';')"
   ]
  },
  {
   "cell_type": "code",
   "execution_count": 10,
   "id": "cc1f9033",
   "metadata": {
    "scrolled": false
   },
   "outputs": [
    {
     "data": {
      "text/html": [
       "<div>\n",
       "<style scoped>\n",
       "    .dataframe tbody tr th:only-of-type {\n",
       "        vertical-align: middle;\n",
       "    }\n",
       "\n",
       "    .dataframe tbody tr th {\n",
       "        vertical-align: top;\n",
       "    }\n",
       "\n",
       "    .dataframe thead th {\n",
       "        text-align: right;\n",
       "    }\n",
       "</style>\n",
       "<table border=\"1\" class=\"dataframe\">\n",
       "  <thead>\n",
       "    <tr style=\"text-align: right;\">\n",
       "      <th></th>\n",
       "      <th>query</th>\n",
       "      <th>name</th>\n",
       "      <th>region</th>\n",
       "      <th>country</th>\n",
       "    </tr>\n",
       "  </thead>\n",
       "  <tbody>\n",
       "    <tr>\n",
       "      <th>0</th>\n",
       "      <td>Смоленск</td>\n",
       "      <td>Smolensk</td>\n",
       "      <td>Smolensk Oblast</td>\n",
       "      <td>Russia</td>\n",
       "    </tr>\n",
       "    <tr>\n",
       "      <th>1</th>\n",
       "      <td>Кемерово</td>\n",
       "      <td>Kemerovo</td>\n",
       "      <td>Kuzbass</td>\n",
       "      <td>Russia</td>\n",
       "    </tr>\n",
       "    <tr>\n",
       "      <th>2</th>\n",
       "      <td>Бишкек</td>\n",
       "      <td>Bishkek</td>\n",
       "      <td>Bishkek</td>\n",
       "      <td>Kyrgyzstan</td>\n",
       "    </tr>\n",
       "  </tbody>\n",
       "</table>\n",
       "</div>"
      ],
      "text/plain": [
       "      query      name           region     country\n",
       "0  Смоленск  Smolensk  Smolensk Oblast      Russia\n",
       "1  Кемерово  Kemerovo          Kuzbass      Russia\n",
       "2    Бишкек   Bishkek          Bishkek  Kyrgyzstan"
      ]
     },
     "execution_count": 10,
     "metadata": {},
     "output_type": "execute_result"
    }
   ],
   "source": [
    "df_test.head(3)"
   ]
  },
  {
   "cell_type": "markdown",
   "id": "ceef9107",
   "metadata": {},
   "source": [
    "Оставим только исследуемые страны"
   ]
  },
  {
   "cell_type": "code",
   "execution_count": 11,
   "id": "ed3b9dd7",
   "metadata": {},
   "outputs": [
    {
     "data": {
      "text/plain": [
       "array(['Russia', 'Kyrgyzstan', 'Kazakhstan', 'Belarus', 'Serbia',\n",
       "       'Armenia', 'Georgia'], dtype=object)"
      ]
     },
     "execution_count": 11,
     "metadata": {},
     "output_type": "execute_result"
    }
   ],
   "source": [
    "df_test['country'].unique()"
   ]
  },
  {
   "cell_type": "code",
   "execution_count": 12,
   "id": "d5096036",
   "metadata": {},
   "outputs": [],
   "source": [
    "df_test = df_test.loc[df_test['country']!='Georgia'].copy()"
   ]
  },
  {
   "cell_type": "code",
   "execution_count": 13,
   "id": "cad88ccf",
   "metadata": {
    "scrolled": true
   },
   "outputs": [
    {
     "name": "stdout",
     "output_type": "stream",
     "text": [
      "Размер таблиы: 4 столбцов и 340 строк\n",
      "Общее количество пропусков - 0\n",
      "\n",
      "Количество явных дубликатов: 0\n",
      "\n",
      "<class 'pandas.core.frame.DataFrame'>\n",
      "Int64Index: 340 entries, 0 to 344\n",
      "Data columns (total 4 columns):\n",
      " #   Column   Non-Null Count  Dtype \n",
      "---  ------   --------------  ----- \n",
      " 0   query    340 non-null    object\n",
      " 1   name     340 non-null    object\n",
      " 2   region   340 non-null    object\n",
      " 3   country  340 non-null    object\n",
      "dtypes: object(4)\n",
      "memory usage: 13.3+ KB\n",
      "None\n",
      "\n"
     ]
    },
    {
     "data": {
      "text/html": [
       "<div>\n",
       "<style scoped>\n",
       "    .dataframe tbody tr th:only-of-type {\n",
       "        vertical-align: middle;\n",
       "    }\n",
       "\n",
       "    .dataframe tbody tr th {\n",
       "        vertical-align: top;\n",
       "    }\n",
       "\n",
       "    .dataframe thead th {\n",
       "        text-align: right;\n",
       "    }\n",
       "</style>\n",
       "<table border=\"1\" class=\"dataframe\">\n",
       "  <thead>\n",
       "    <tr style=\"text-align: right;\">\n",
       "      <th></th>\n",
       "      <th>query</th>\n",
       "      <th>name</th>\n",
       "      <th>region</th>\n",
       "      <th>country</th>\n",
       "    </tr>\n",
       "  </thead>\n",
       "  <tbody>\n",
       "    <tr>\n",
       "      <th>count</th>\n",
       "      <td>340</td>\n",
       "      <td>340</td>\n",
       "      <td>340</td>\n",
       "      <td>340</td>\n",
       "    </tr>\n",
       "    <tr>\n",
       "      <th>unique</th>\n",
       "      <td>340</td>\n",
       "      <td>313</td>\n",
       "      <td>111</td>\n",
       "      <td>6</td>\n",
       "    </tr>\n",
       "    <tr>\n",
       "      <th>top</th>\n",
       "      <td>Смоленск</td>\n",
       "      <td>Saint Petersburg</td>\n",
       "      <td>Moscow Oblast</td>\n",
       "      <td>Russia</td>\n",
       "    </tr>\n",
       "    <tr>\n",
       "      <th>freq</th>\n",
       "      <td>1</td>\n",
       "      <td>3</td>\n",
       "      <td>49</td>\n",
       "      <td>291</td>\n",
       "    </tr>\n",
       "  </tbody>\n",
       "</table>\n",
       "</div>"
      ],
      "text/plain": [
       "           query              name         region country\n",
       "count        340               340            340     340\n",
       "unique       340               313            111       6\n",
       "top     Смоленск  Saint Petersburg  Moscow Oblast  Russia\n",
       "freq           1                 3             49     291"
      ]
     },
     "metadata": {},
     "output_type": "display_data"
    }
   ],
   "source": [
    "# Исследуем датасет\n",
    "info_df(df_test)"
   ]
  },
  {
   "cell_type": "markdown",
   "id": "66e9004a",
   "metadata": {},
   "source": [
    "### Датасет с различными гео-показателями о всех городах с населением 15 000+ или столицах<a id='2.2'></a>"
   ]
  },
  {
   "cell_type": "code",
   "execution_count": 14,
   "id": "08116d23",
   "metadata": {},
   "outputs": [],
   "source": [
    "# Названия столбцов\n",
    "cities_names=['geonameid', 'name', 'asciiname', 'alternatenames', 'latitude',\n",
    "              'longitude', 'feature class','feature code', 'country code', 'cc2',\n",
    "              'admin1 code', 'admin2 code', 'admin3 code', 'admin4 code', 'population',\n",
    "              'elevation', 'dem', 'timezone', 'modification date']"
   ]
  },
  {
   "cell_type": "code",
   "execution_count": 17,
   "id": "439fc7db",
   "metadata": {
    "scrolled": true
   },
   "outputs": [],
   "source": [
    "# Чтение файла\n",
    "try:\n",
    "    df_cities1500 = pd.read_csv(patch + 'cities15000.txt', sep='\\t', \n",
    "                                lineterminator='\\n', header=None, names=cities_names)\n",
    "except FileNotFoundError:\n",
    "    df_cities1500 = pd.read_csv(patch_1 + 'cities15000.txt', sep='\\t', \n",
    "                                lineterminator='\\n', header=None, names=cities_names)"
   ]
  },
  {
   "cell_type": "code",
   "execution_count": 18,
   "id": "ccbe04ae",
   "metadata": {},
   "outputs": [
    {
     "data": {
      "text/plain": [
       "932"
      ]
     },
     "execution_count": 18,
     "metadata": {},
     "output_type": "execute_result"
    }
   ],
   "source": [
    "# Создание таблицы на сервере\n",
    "df_cities1500.to_sql('cities1500', con=engine)"
   ]
  },
  {
   "cell_type": "code",
   "execution_count": 19,
   "id": "f9ee847b",
   "metadata": {},
   "outputs": [
    {
     "data": {
      "text/html": [
       "<div>\n",
       "<style scoped>\n",
       "    .dataframe tbody tr th:only-of-type {\n",
       "        vertical-align: middle;\n",
       "    }\n",
       "\n",
       "    .dataframe tbody tr th {\n",
       "        vertical-align: top;\n",
       "    }\n",
       "\n",
       "    .dataframe thead th {\n",
       "        text-align: right;\n",
       "    }\n",
       "</style>\n",
       "<table border=\"1\" class=\"dataframe\">\n",
       "  <thead>\n",
       "    <tr style=\"text-align: right;\">\n",
       "      <th></th>\n",
       "      <th>index</th>\n",
       "      <th>geonameid</th>\n",
       "      <th>name</th>\n",
       "      <th>asciiname</th>\n",
       "      <th>alternatenames</th>\n",
       "      <th>latitude</th>\n",
       "      <th>longitude</th>\n",
       "      <th>feature class</th>\n",
       "      <th>feature code</th>\n",
       "      <th>country code</th>\n",
       "      <th>cc2</th>\n",
       "      <th>admin1 code</th>\n",
       "      <th>admin2 code</th>\n",
       "      <th>admin3 code</th>\n",
       "      <th>admin4 code</th>\n",
       "      <th>population</th>\n",
       "      <th>elevation</th>\n",
       "      <th>dem</th>\n",
       "      <th>timezone</th>\n",
       "      <th>modification date</th>\n",
       "    </tr>\n",
       "  </thead>\n",
       "  <tbody>\n",
       "    <tr>\n",
       "      <th>0</th>\n",
       "      <td>0</td>\n",
       "      <td>3040051</td>\n",
       "      <td>les Escaldes</td>\n",
       "      <td>les Escaldes</td>\n",
       "      <td>Ehskal'des-Ehndzhordani,Escaldes,Escaldes-Engo...</td>\n",
       "      <td>42.50729</td>\n",
       "      <td>1.53414</td>\n",
       "      <td>P</td>\n",
       "      <td>PPLA</td>\n",
       "      <td>AD</td>\n",
       "      <td>None</td>\n",
       "      <td>08</td>\n",
       "      <td>None</td>\n",
       "      <td>None</td>\n",
       "      <td>None</td>\n",
       "      <td>15853</td>\n",
       "      <td>None</td>\n",
       "      <td>1033</td>\n",
       "      <td>Europe/Andorra</td>\n",
       "      <td>2008-10-15</td>\n",
       "    </tr>\n",
       "    <tr>\n",
       "      <th>1</th>\n",
       "      <td>1</td>\n",
       "      <td>3041563</td>\n",
       "      <td>Andorra la Vella</td>\n",
       "      <td>Andorra la Vella</td>\n",
       "      <td>ALV,Ando-la-Vyey,Andora,Andora la Vela,Andora ...</td>\n",
       "      <td>42.50779</td>\n",
       "      <td>1.52109</td>\n",
       "      <td>P</td>\n",
       "      <td>PPLC</td>\n",
       "      <td>AD</td>\n",
       "      <td>None</td>\n",
       "      <td>07</td>\n",
       "      <td>None</td>\n",
       "      <td>None</td>\n",
       "      <td>None</td>\n",
       "      <td>20430</td>\n",
       "      <td>None</td>\n",
       "      <td>1037</td>\n",
       "      <td>Europe/Andorra</td>\n",
       "      <td>2020-03-03</td>\n",
       "    </tr>\n",
       "    <tr>\n",
       "      <th>2</th>\n",
       "      <td>2</td>\n",
       "      <td>290594</td>\n",
       "      <td>Umm Al Quwain City</td>\n",
       "      <td>Umm Al Quwain City</td>\n",
       "      <td>Oumm al Qaiwain,Oumm al Qaïwaïn,Um al Kawain,U...</td>\n",
       "      <td>25.56473</td>\n",
       "      <td>55.55517</td>\n",
       "      <td>P</td>\n",
       "      <td>PPLA</td>\n",
       "      <td>AE</td>\n",
       "      <td>None</td>\n",
       "      <td>07</td>\n",
       "      <td>None</td>\n",
       "      <td>None</td>\n",
       "      <td>None</td>\n",
       "      <td>62747</td>\n",
       "      <td>None</td>\n",
       "      <td>2</td>\n",
       "      <td>Asia/Dubai</td>\n",
       "      <td>2019-10-24</td>\n",
       "    </tr>\n",
       "    <tr>\n",
       "      <th>3</th>\n",
       "      <td>3</td>\n",
       "      <td>291074</td>\n",
       "      <td>Ras Al Khaimah City</td>\n",
       "      <td>Ras Al Khaimah City</td>\n",
       "      <td>Julfa,Khaimah,RAK City,RKT,Ra's al Khaymah,Ra'...</td>\n",
       "      <td>25.78953</td>\n",
       "      <td>55.94320</td>\n",
       "      <td>P</td>\n",
       "      <td>PPLA</td>\n",
       "      <td>AE</td>\n",
       "      <td>None</td>\n",
       "      <td>05</td>\n",
       "      <td>None</td>\n",
       "      <td>None</td>\n",
       "      <td>None</td>\n",
       "      <td>351943</td>\n",
       "      <td>None</td>\n",
       "      <td>2</td>\n",
       "      <td>Asia/Dubai</td>\n",
       "      <td>2019-09-09</td>\n",
       "    </tr>\n",
       "    <tr>\n",
       "      <th>4</th>\n",
       "      <td>4</td>\n",
       "      <td>291580</td>\n",
       "      <td>Zayed City</td>\n",
       "      <td>Zayed City</td>\n",
       "      <td>Bid' Zayed,Bid’ Zayed,Madinat Za'id,Madinat Za...</td>\n",
       "      <td>23.65416</td>\n",
       "      <td>53.70522</td>\n",
       "      <td>P</td>\n",
       "      <td>PPL</td>\n",
       "      <td>AE</td>\n",
       "      <td>None</td>\n",
       "      <td>01</td>\n",
       "      <td>103</td>\n",
       "      <td>None</td>\n",
       "      <td>None</td>\n",
       "      <td>63482</td>\n",
       "      <td>None</td>\n",
       "      <td>118</td>\n",
       "      <td>Asia/Dubai</td>\n",
       "      <td>2019-10-24</td>\n",
       "    </tr>\n",
       "  </tbody>\n",
       "</table>\n",
       "</div>"
      ],
      "text/plain": [
       "   index  geonameid                 name            asciiname  \\\n",
       "0      0    3040051         les Escaldes         les Escaldes   \n",
       "1      1    3041563     Andorra la Vella     Andorra la Vella   \n",
       "2      2     290594   Umm Al Quwain City   Umm Al Quwain City   \n",
       "3      3     291074  Ras Al Khaimah City  Ras Al Khaimah City   \n",
       "4      4     291580           Zayed City           Zayed City   \n",
       "\n",
       "                                      alternatenames  latitude  longitude  \\\n",
       "0  Ehskal'des-Ehndzhordani,Escaldes,Escaldes-Engo...  42.50729    1.53414   \n",
       "1  ALV,Ando-la-Vyey,Andora,Andora la Vela,Andora ...  42.50779    1.52109   \n",
       "2  Oumm al Qaiwain,Oumm al Qaïwaïn,Um al Kawain,U...  25.56473   55.55517   \n",
       "3  Julfa,Khaimah,RAK City,RKT,Ra's al Khaymah,Ra'...  25.78953   55.94320   \n",
       "4  Bid' Zayed,Bid’ Zayed,Madinat Za'id,Madinat Za...  23.65416   53.70522   \n",
       "\n",
       "  feature class feature code country code   cc2 admin1 code admin2 code  \\\n",
       "0             P         PPLA           AD  None          08        None   \n",
       "1             P         PPLC           AD  None          07        None   \n",
       "2             P         PPLA           AE  None          07        None   \n",
       "3             P         PPLA           AE  None          05        None   \n",
       "4             P          PPL           AE  None          01         103   \n",
       "\n",
       "  admin3 code admin4 code  population elevation   dem        timezone  \\\n",
       "0        None        None       15853      None  1033  Europe/Andorra   \n",
       "1        None        None       20430      None  1037  Europe/Andorra   \n",
       "2        None        None       62747      None     2      Asia/Dubai   \n",
       "3        None        None      351943      None     2      Asia/Dubai   \n",
       "4        None        None       63482      None   118      Asia/Dubai   \n",
       "\n",
       "  modification date  \n",
       "0        2008-10-15  \n",
       "1        2020-03-03  \n",
       "2        2019-10-24  \n",
       "3        2019-09-09  \n",
       "4        2019-10-24  "
      ]
     },
     "execution_count": 19,
     "metadata": {},
     "output_type": "execute_result"
    }
   ],
   "source": [
    "query = \"\"\"\n",
    "\n",
    "SELECT * \n",
    "FROM cities1500 \n",
    "LIMIT 5\n",
    "\n",
    "\"\"\"\n",
    "\n",
    "pd.read_sql_query(text(query), con=engine.connect())"
   ]
  },
  {
   "cell_type": "code",
   "execution_count": 20,
   "id": "4da15356",
   "metadata": {},
   "outputs": [],
   "source": [
    "# Выгрузка таблицы с сервера\n",
    "\n",
    "query = \"\"\"\n",
    "\n",
    "SELECT * \n",
    "FROM cities1500 \n",
    "\n",
    "\"\"\"\n",
    "\n",
    "df_cities1500 = pd.read_sql_query(text(query), con=engine.connect())"
   ]
  },
  {
   "cell_type": "code",
   "execution_count": 21,
   "id": "cc4286e1",
   "metadata": {},
   "outputs": [],
   "source": [
    "# Оставим только исследуемые страны\n",
    "df_cities1500 = df_cities1500.query('`country code` in @country_code').reset_index(drop=True)"
   ]
  },
  {
   "cell_type": "code",
   "execution_count": 22,
   "id": "dbc8966a",
   "metadata": {
    "scrolled": false
   },
   "outputs": [
    {
     "data": {
      "text/html": [
       "<div>\n",
       "<style scoped>\n",
       "    .dataframe tbody tr th:only-of-type {\n",
       "        vertical-align: middle;\n",
       "    }\n",
       "\n",
       "    .dataframe tbody tr th {\n",
       "        vertical-align: top;\n",
       "    }\n",
       "\n",
       "    .dataframe thead th {\n",
       "        text-align: right;\n",
       "    }\n",
       "</style>\n",
       "<table border=\"1\" class=\"dataframe\">\n",
       "  <thead>\n",
       "    <tr style=\"text-align: right;\">\n",
       "      <th></th>\n",
       "      <th>index</th>\n",
       "      <th>geonameid</th>\n",
       "      <th>name</th>\n",
       "      <th>asciiname</th>\n",
       "      <th>alternatenames</th>\n",
       "      <th>latitude</th>\n",
       "      <th>longitude</th>\n",
       "      <th>feature class</th>\n",
       "      <th>feature code</th>\n",
       "      <th>country code</th>\n",
       "      <th>cc2</th>\n",
       "      <th>admin1 code</th>\n",
       "      <th>admin2 code</th>\n",
       "      <th>admin3 code</th>\n",
       "      <th>admin4 code</th>\n",
       "      <th>population</th>\n",
       "      <th>elevation</th>\n",
       "      <th>dem</th>\n",
       "      <th>timezone</th>\n",
       "      <th>modification date</th>\n",
       "    </tr>\n",
       "  </thead>\n",
       "  <tbody>\n",
       "    <tr>\n",
       "      <th>0</th>\n",
       "      <td>94</td>\n",
       "      <td>174875</td>\n",
       "      <td>Kapan</td>\n",
       "      <td>Kapan</td>\n",
       "      <td>Ghap'an,Ghapan,Ghap’an,Kafan,Kafin,Kapan,Kapan...</td>\n",
       "      <td>39.20755</td>\n",
       "      <td>46.40576</td>\n",
       "      <td>P</td>\n",
       "      <td>PPLA</td>\n",
       "      <td>AM</td>\n",
       "      <td>None</td>\n",
       "      <td>08</td>\n",
       "      <td>None</td>\n",
       "      <td>None</td>\n",
       "      <td>None</td>\n",
       "      <td>33160</td>\n",
       "      <td>NaN</td>\n",
       "      <td>774</td>\n",
       "      <td>Asia/Yerevan</td>\n",
       "      <td>2023-10-23</td>\n",
       "    </tr>\n",
       "    <tr>\n",
       "      <th>1</th>\n",
       "      <td>95</td>\n",
       "      <td>174895</td>\n",
       "      <td>Goris</td>\n",
       "      <td>Goris</td>\n",
       "      <td>Geryusy,Goris,Горис,Գորիս</td>\n",
       "      <td>39.51111</td>\n",
       "      <td>46.34168</td>\n",
       "      <td>P</td>\n",
       "      <td>PPL</td>\n",
       "      <td>AM</td>\n",
       "      <td>None</td>\n",
       "      <td>08</td>\n",
       "      <td>None</td>\n",
       "      <td>None</td>\n",
       "      <td>None</td>\n",
       "      <td>20379</td>\n",
       "      <td>NaN</td>\n",
       "      <td>1351</td>\n",
       "      <td>Asia/Yerevan</td>\n",
       "      <td>2018-03-12</td>\n",
       "    </tr>\n",
       "    <tr>\n",
       "      <th>2</th>\n",
       "      <td>96</td>\n",
       "      <td>174972</td>\n",
       "      <td>Hats’avan</td>\n",
       "      <td>Hats'avan</td>\n",
       "      <td>Acavan,Atsavan,Hats'avan,Hats’avan,Sisian,Ацав...</td>\n",
       "      <td>39.46405</td>\n",
       "      <td>45.97047</td>\n",
       "      <td>P</td>\n",
       "      <td>PPL</td>\n",
       "      <td>AM</td>\n",
       "      <td>None</td>\n",
       "      <td>08</td>\n",
       "      <td>None</td>\n",
       "      <td>None</td>\n",
       "      <td>None</td>\n",
       "      <td>15208</td>\n",
       "      <td>NaN</td>\n",
       "      <td>1761</td>\n",
       "      <td>Asia/Yerevan</td>\n",
       "      <td>2020-06-10</td>\n",
       "    </tr>\n",
       "  </tbody>\n",
       "</table>\n",
       "</div>"
      ],
      "text/plain": [
       "   index  geonameid       name  asciiname  \\\n",
       "0     94     174875      Kapan      Kapan   \n",
       "1     95     174895      Goris      Goris   \n",
       "2     96     174972  Hats’avan  Hats'avan   \n",
       "\n",
       "                                      alternatenames  latitude  longitude  \\\n",
       "0  Ghap'an,Ghapan,Ghap’an,Kafan,Kafin,Kapan,Kapan...  39.20755   46.40576   \n",
       "1                          Geryusy,Goris,Горис,Գորիս  39.51111   46.34168   \n",
       "2  Acavan,Atsavan,Hats'avan,Hats’avan,Sisian,Ацав...  39.46405   45.97047   \n",
       "\n",
       "  feature class feature code country code   cc2 admin1 code admin2 code  \\\n",
       "0             P         PPLA           AM  None          08        None   \n",
       "1             P          PPL           AM  None          08        None   \n",
       "2             P          PPL           AM  None          08        None   \n",
       "\n",
       "  admin3 code admin4 code  population  elevation   dem      timezone  \\\n",
       "0        None        None       33160        NaN   774  Asia/Yerevan   \n",
       "1        None        None       20379        NaN  1351  Asia/Yerevan   \n",
       "2        None        None       15208        NaN  1761  Asia/Yerevan   \n",
       "\n",
       "  modification date  \n",
       "0        2023-10-23  \n",
       "1        2018-03-12  \n",
       "2        2020-06-10  "
      ]
     },
     "execution_count": 22,
     "metadata": {},
     "output_type": "execute_result"
    }
   ],
   "source": [
    "df_cities1500.head(3)"
   ]
  },
  {
   "cell_type": "code",
   "execution_count": 23,
   "id": "8585cceb",
   "metadata": {
    "scrolled": true
   },
   "outputs": [
    {
     "name": "stdout",
     "output_type": "stream",
     "text": [
      "Размер таблиы: 20 столбцов и 1711 строк\n",
      "Общее количество пропусков - 8297\n",
      "alternatenames      19\n",
      "cc2               1711\n",
      "admin2 code       1519\n",
      "admin3 code       1654\n",
      "admin4 code       1711\n",
      "elevation         1683\n",
      "dtype: int64\n",
      "\n",
      "Количество явных дубликатов: 0\n",
      "\n",
      "<class 'pandas.core.frame.DataFrame'>\n",
      "RangeIndex: 1711 entries, 0 to 1710\n",
      "Data columns (total 20 columns):\n",
      " #   Column             Non-Null Count  Dtype  \n",
      "---  ------             --------------  -----  \n",
      " 0   index              1711 non-null   int64  \n",
      " 1   geonameid          1711 non-null   int64  \n",
      " 2   name               1711 non-null   object \n",
      " 3   asciiname          1711 non-null   object \n",
      " 4   alternatenames     1692 non-null   object \n",
      " 5   latitude           1711 non-null   float64\n",
      " 6   longitude          1711 non-null   float64\n",
      " 7   feature class      1711 non-null   object \n",
      " 8   feature code       1711 non-null   object \n",
      " 9   country code       1711 non-null   object \n",
      " 10  cc2                0 non-null      object \n",
      " 11  admin1 code        1711 non-null   object \n",
      " 12  admin2 code        192 non-null    object \n",
      " 13  admin3 code        57 non-null     object \n",
      " 14  admin4 code        0 non-null      object \n",
      " 15  population         1711 non-null   int64  \n",
      " 16  elevation          28 non-null     float64\n",
      " 17  dem                1711 non-null   int64  \n",
      " 18  timezone           1711 non-null   object \n",
      " 19  modification date  1711 non-null   object \n",
      "dtypes: float64(3), int64(4), object(13)\n",
      "memory usage: 267.5+ KB\n",
      "None\n",
      "\n"
     ]
    },
    {
     "data": {
      "text/html": [
       "<div>\n",
       "<style scoped>\n",
       "    .dataframe tbody tr th:only-of-type {\n",
       "        vertical-align: middle;\n",
       "    }\n",
       "\n",
       "    .dataframe tbody tr th {\n",
       "        vertical-align: top;\n",
       "    }\n",
       "\n",
       "    .dataframe thead th {\n",
       "        text-align: right;\n",
       "    }\n",
       "</style>\n",
       "<table border=\"1\" class=\"dataframe\">\n",
       "  <thead>\n",
       "    <tr style=\"text-align: right;\">\n",
       "      <th></th>\n",
       "      <th>index</th>\n",
       "      <th>geonameid</th>\n",
       "      <th>latitude</th>\n",
       "      <th>longitude</th>\n",
       "      <th>population</th>\n",
       "      <th>elevation</th>\n",
       "      <th>dem</th>\n",
       "    </tr>\n",
       "  </thead>\n",
       "  <tbody>\n",
       "    <tr>\n",
       "      <th>count</th>\n",
       "      <td>1711.00</td>\n",
       "      <td>1711.00</td>\n",
       "      <td>1711.00</td>\n",
       "      <td>1711.00</td>\n",
       "      <td>1711.00</td>\n",
       "      <td>28.00</td>\n",
       "      <td>1711.00</td>\n",
       "    </tr>\n",
       "    <tr>\n",
       "      <th>mean</th>\n",
       "      <td>19831.46</td>\n",
       "      <td>1001068.44</td>\n",
       "      <td>49.74</td>\n",
       "      <td>48.02</td>\n",
       "      <td>119945.21</td>\n",
       "      <td>419.71</td>\n",
       "      <td>288.93</td>\n",
       "    </tr>\n",
       "    <tr>\n",
       "      <th>std</th>\n",
       "      <td>3908.43</td>\n",
       "      <td>1352497.94</td>\n",
       "      <td>7.83</td>\n",
       "      <td>23.54</td>\n",
       "      <td>505508.17</td>\n",
       "      <td>361.52</td>\n",
       "      <td>368.11</td>\n",
       "    </tr>\n",
       "    <tr>\n",
       "      <th>min</th>\n",
       "      <td>94.00</td>\n",
       "      <td>174875.00</td>\n",
       "      <td>36.08</td>\n",
       "      <td>18.98</td>\n",
       "      <td>15019.00</td>\n",
       "      <td>10.00</td>\n",
       "      <td>-25.00</td>\n",
       "    </tr>\n",
       "    <tr>\n",
       "      <th>25%</th>\n",
       "      <td>20133.50</td>\n",
       "      <td>493582.50</td>\n",
       "      <td>41.66</td>\n",
       "      <td>34.32</td>\n",
       "      <td>22501.50</td>\n",
       "      <td>111.75</td>\n",
       "      <td>81.50</td>\n",
       "    </tr>\n",
       "    <tr>\n",
       "      <th>50%</th>\n",
       "      <td>20561.00</td>\n",
       "      <td>559654.00</td>\n",
       "      <td>52.10</td>\n",
       "      <td>39.78</td>\n",
       "      <td>39214.00</td>\n",
       "      <td>345.00</td>\n",
       "      <td>152.00</td>\n",
       "    </tr>\n",
       "    <tr>\n",
       "      <th>75%</th>\n",
       "      <td>20988.50</td>\n",
       "      <td>827692.00</td>\n",
       "      <td>55.77</td>\n",
       "      <td>54.66</td>\n",
       "      <td>84136.00</td>\n",
       "      <td>747.50</td>\n",
       "      <td>293.00</td>\n",
       "    </tr>\n",
       "    <tr>\n",
       "      <th>max</th>\n",
       "      <td>22380.00</td>\n",
       "      <td>12041452.00</td>\n",
       "      <td>69.49</td>\n",
       "      <td>177.51</td>\n",
       "      <td>14804116.00</td>\n",
       "      <td>1276.00</td>\n",
       "      <td>2087.00</td>\n",
       "    </tr>\n",
       "  </tbody>\n",
       "</table>\n",
       "</div>"
      ],
      "text/plain": [
       "          index    geonameid  latitude  longitude   population  elevation  \\\n",
       "count   1711.00      1711.00   1711.00    1711.00      1711.00      28.00   \n",
       "mean   19831.46   1001068.44     49.74      48.02    119945.21     419.71   \n",
       "std     3908.43   1352497.94      7.83      23.54    505508.17     361.52   \n",
       "min       94.00    174875.00     36.08      18.98     15019.00      10.00   \n",
       "25%    20133.50    493582.50     41.66      34.32     22501.50     111.75   \n",
       "50%    20561.00    559654.00     52.10      39.78     39214.00     345.00   \n",
       "75%    20988.50    827692.00     55.77      54.66     84136.00     747.50   \n",
       "max    22380.00  12041452.00     69.49     177.51  14804116.00    1276.00   \n",
       "\n",
       "           dem  \n",
       "count  1711.00  \n",
       "mean    288.93  \n",
       "std     368.11  \n",
       "min     -25.00  \n",
       "25%      81.50  \n",
       "50%     152.00  \n",
       "75%     293.00  \n",
       "max    2087.00  "
      ]
     },
     "metadata": {},
     "output_type": "display_data"
    }
   ],
   "source": [
    "# Исследуем датасет\n",
    "info_df(df_cities1500)"
   ]
  },
  {
   "cell_type": "code",
   "execution_count": 24,
   "id": "9b2a7b6e",
   "metadata": {},
   "outputs": [],
   "source": [
    "# Определим список исследуемых geonameid\n",
    "geonameid_list = df_cities1500['geonameid'].unique()\n",
    "\n",
    "# Сократим число столбцов\n",
    "df_cities1500 = df_cities1500.loc[:, ['geonameid', 'name', 'alternatenames', 'country code', 'admin1 code', 'population']].copy()\n",
    "\n",
    "# Удалим пропуски \n",
    "df_cities1500 = df_cities1500.dropna(subset=['alternatenames'])"
   ]
  },
  {
   "cell_type": "code",
   "execution_count": 25,
   "id": "7591e85e",
   "metadata": {
    "scrolled": true
   },
   "outputs": [],
   "source": [
    "# Добавим столбец со словарем аоьтернативных названий\n",
    "df_cities1500['dict_text'] = df_cities1500.apply(lambda x: alternatenames(x['alternatenames'], x['geonameid']), axis=1)"
   ]
  },
  {
   "cell_type": "code",
   "execution_count": 26,
   "id": "4db63030",
   "metadata": {
    "scrolled": true
   },
   "outputs": [
    {
     "data": {
      "text/html": [
       "<div>\n",
       "<style scoped>\n",
       "    .dataframe tbody tr th:only-of-type {\n",
       "        vertical-align: middle;\n",
       "    }\n",
       "\n",
       "    .dataframe tbody tr th {\n",
       "        vertical-align: top;\n",
       "    }\n",
       "\n",
       "    .dataframe thead th {\n",
       "        text-align: right;\n",
       "    }\n",
       "</style>\n",
       "<table border=\"1\" class=\"dataframe\">\n",
       "  <thead>\n",
       "    <tr style=\"text-align: right;\">\n",
       "      <th></th>\n",
       "      <th>geonameid</th>\n",
       "      <th>name</th>\n",
       "      <th>alternatenames</th>\n",
       "      <th>country code</th>\n",
       "      <th>admin1 code</th>\n",
       "      <th>population</th>\n",
       "      <th>dict_text</th>\n",
       "    </tr>\n",
       "  </thead>\n",
       "  <tbody>\n",
       "    <tr>\n",
       "      <th>0</th>\n",
       "      <td>174875</td>\n",
       "      <td>Kapan</td>\n",
       "      <td>Ghap'an,Ghapan,Ghap’an,Kafan,Kafin,Kapan,Kapan...</td>\n",
       "      <td>AM</td>\n",
       "      <td>08</td>\n",
       "      <td>33160</td>\n",
       "      <td>{'Ghap'an': 174875, 'Ghapan': 174875, 'Ghap’an...</td>\n",
       "    </tr>\n",
       "    <tr>\n",
       "      <th>1</th>\n",
       "      <td>174895</td>\n",
       "      <td>Goris</td>\n",
       "      <td>Geryusy,Goris,Горис,Գորիս</td>\n",
       "      <td>AM</td>\n",
       "      <td>08</td>\n",
       "      <td>20379</td>\n",
       "      <td>{'Geryusy': 174895, 'Goris': 174895, 'Горис': ...</td>\n",
       "    </tr>\n",
       "    <tr>\n",
       "      <th>2</th>\n",
       "      <td>174972</td>\n",
       "      <td>Hats’avan</td>\n",
       "      <td>Acavan,Atsavan,Hats'avan,Hats’avan,Sisian,Ацав...</td>\n",
       "      <td>AM</td>\n",
       "      <td>08</td>\n",
       "      <td>15208</td>\n",
       "      <td>{'Acavan': 174972, 'Atsavan': 174972, 'Hats'av...</td>\n",
       "    </tr>\n",
       "  </tbody>\n",
       "</table>\n",
       "</div>"
      ],
      "text/plain": [
       "   geonameid       name                                     alternatenames  \\\n",
       "0     174875      Kapan  Ghap'an,Ghapan,Ghap’an,Kafan,Kafin,Kapan,Kapan...   \n",
       "1     174895      Goris                          Geryusy,Goris,Горис,Գորիս   \n",
       "2     174972  Hats’avan  Acavan,Atsavan,Hats'avan,Hats’avan,Sisian,Ацав...   \n",
       "\n",
       "  country code admin1 code  population  \\\n",
       "0           AM          08       33160   \n",
       "1           AM          08       20379   \n",
       "2           AM          08       15208   \n",
       "\n",
       "                                           dict_text  \n",
       "0  {'Ghap'an': 174875, 'Ghapan': 174875, 'Ghap’an...  \n",
       "1  {'Geryusy': 174895, 'Goris': 174895, 'Горис': ...  \n",
       "2  {'Acavan': 174972, 'Atsavan': 174972, 'Hats'av...  "
      ]
     },
     "execution_count": 26,
     "metadata": {},
     "output_type": "execute_result"
    }
   ],
   "source": [
    "df_cities1500.head(3)"
   ]
  },
  {
   "cell_type": "code",
   "execution_count": 27,
   "id": "b1758124",
   "metadata": {},
   "outputs": [],
   "source": [
    "# Объединим словари\n",
    "big_list = list(df_cities1500['dict_text'])\n",
    "big_diht = {}\n",
    "for i in big_list:\n",
    "    big_diht.update(i)"
   ]
  },
  {
   "cell_type": "code",
   "execution_count": 28,
   "id": "ffa5c9d5",
   "metadata": {},
   "outputs": [],
   "source": [
    "# Создадим новый дата-фрейм\n",
    "df_altern = pd.DataFrame(list(big_diht.items()))\n",
    "df_altern.columns = ['alternatenames', 'geonameid']"
   ]
  },
  {
   "cell_type": "code",
   "execution_count": 29,
   "id": "084d37ad",
   "metadata": {},
   "outputs": [
    {
     "data": {
      "text/html": [
       "<div>\n",
       "<style scoped>\n",
       "    .dataframe tbody tr th:only-of-type {\n",
       "        vertical-align: middle;\n",
       "    }\n",
       "\n",
       "    .dataframe tbody tr th {\n",
       "        vertical-align: top;\n",
       "    }\n",
       "\n",
       "    .dataframe thead th {\n",
       "        text-align: right;\n",
       "    }\n",
       "</style>\n",
       "<table border=\"1\" class=\"dataframe\">\n",
       "  <thead>\n",
       "    <tr style=\"text-align: right;\">\n",
       "      <th></th>\n",
       "      <th>alternatenames</th>\n",
       "      <th>geonameid</th>\n",
       "    </tr>\n",
       "  </thead>\n",
       "  <tbody>\n",
       "    <tr>\n",
       "      <th>0</th>\n",
       "      <td>Ghap'an</td>\n",
       "      <td>174875</td>\n",
       "    </tr>\n",
       "    <tr>\n",
       "      <th>1</th>\n",
       "      <td>Ghapan</td>\n",
       "      <td>174875</td>\n",
       "    </tr>\n",
       "    <tr>\n",
       "      <th>2</th>\n",
       "      <td>Ghap’an</td>\n",
       "      <td>174875</td>\n",
       "    </tr>\n",
       "    <tr>\n",
       "      <th>3</th>\n",
       "      <td>Kafan</td>\n",
       "      <td>174875</td>\n",
       "    </tr>\n",
       "    <tr>\n",
       "      <th>4</th>\n",
       "      <td>Kafin</td>\n",
       "      <td>174875</td>\n",
       "    </tr>\n",
       "  </tbody>\n",
       "</table>\n",
       "</div>"
      ],
      "text/plain": [
       "  alternatenames  geonameid\n",
       "0        Ghap'an     174875\n",
       "1         Ghapan     174875\n",
       "2        Ghap’an     174875\n",
       "3          Kafan     174875\n",
       "4          Kafin     174875"
      ]
     },
     "execution_count": 29,
     "metadata": {},
     "output_type": "execute_result"
    }
   ],
   "source": [
    "df_altern.head()"
   ]
  },
  {
   "cell_type": "code",
   "execution_count": 30,
   "id": "7320dd8b",
   "metadata": {},
   "outputs": [
    {
     "name": "stdout",
     "output_type": "stream",
     "text": [
      "Размер таблиы: 2 столбцов и 24178 строк\n",
      "Общее количество пропусков - 0\n",
      "\n",
      "Количество явных дубликатов: 0\n",
      "\n",
      "<class 'pandas.core.frame.DataFrame'>\n",
      "RangeIndex: 24178 entries, 0 to 24177\n",
      "Data columns (total 2 columns):\n",
      " #   Column          Non-Null Count  Dtype \n",
      "---  ------          --------------  ----- \n",
      " 0   alternatenames  24178 non-null  object\n",
      " 1   geonameid       24178 non-null  int64 \n",
      "dtypes: int64(1), object(1)\n",
      "memory usage: 377.9+ KB\n",
      "None\n",
      "\n"
     ]
    },
    {
     "data": {
      "text/html": [
       "<div>\n",
       "<style scoped>\n",
       "    .dataframe tbody tr th:only-of-type {\n",
       "        vertical-align: middle;\n",
       "    }\n",
       "\n",
       "    .dataframe tbody tr th {\n",
       "        vertical-align: top;\n",
       "    }\n",
       "\n",
       "    .dataframe thead th {\n",
       "        text-align: right;\n",
       "    }\n",
       "</style>\n",
       "<table border=\"1\" class=\"dataframe\">\n",
       "  <thead>\n",
       "    <tr style=\"text-align: right;\">\n",
       "      <th></th>\n",
       "      <th>geonameid</th>\n",
       "    </tr>\n",
       "  </thead>\n",
       "  <tbody>\n",
       "    <tr>\n",
       "      <th>count</th>\n",
       "      <td>24178.00</td>\n",
       "    </tr>\n",
       "    <tr>\n",
       "      <th>mean</th>\n",
       "      <td>850811.38</td>\n",
       "    </tr>\n",
       "    <tr>\n",
       "      <th>std</th>\n",
       "      <td>760143.60</td>\n",
       "    </tr>\n",
       "    <tr>\n",
       "      <th>min</th>\n",
       "      <td>174875.00</td>\n",
       "    </tr>\n",
       "    <tr>\n",
       "      <th>25%</th>\n",
       "      <td>498817.00</td>\n",
       "    </tr>\n",
       "    <tr>\n",
       "      <th>50%</th>\n",
       "      <td>561667.00</td>\n",
       "    </tr>\n",
       "    <tr>\n",
       "      <th>75%</th>\n",
       "      <td>792078.00</td>\n",
       "    </tr>\n",
       "    <tr>\n",
       "      <th>max</th>\n",
       "      <td>12041452.00</td>\n",
       "    </tr>\n",
       "  </tbody>\n",
       "</table>\n",
       "</div>"
      ],
      "text/plain": [
       "         geonameid\n",
       "count     24178.00\n",
       "mean     850811.38\n",
       "std      760143.60\n",
       "min      174875.00\n",
       "25%      498817.00\n",
       "50%      561667.00\n",
       "75%      792078.00\n",
       "max    12041452.00"
      ]
     },
     "metadata": {},
     "output_type": "display_data"
    }
   ],
   "source": [
    "# Исследуем датасет\n",
    "info_df(df_altern)"
   ]
  },
  {
   "cell_type": "markdown",
   "id": "97926b9e",
   "metadata": {},
   "source": [
    "**Вывод**\n",
    "\n",
    "Предоставленный датасет с характеристиками городов излишен по объему. В связи с этим, в целях ускорения решения поставленной задачи, в полученном датасете оставлены только города, входящие в список исследуемых стран.\n",
    "\n",
    "Для обучающего датасета необходимо учесть все варианты написания названия города. Для этого список в столбце альтернативных названий преобразован в словарь, из которого сформирован новый обучающий датасет.\n"
   ]
  },
  {
   "cell_type": "markdown",
   "id": "efe8ce0c",
   "metadata": {},
   "source": [
    "### Названия административных подразделений на английском языке<a id='2.3'></a>"
   ]
  },
  {
   "cell_type": "code",
   "execution_count": 31,
   "id": "afb1ca8b",
   "metadata": {},
   "outputs": [],
   "source": [
    "# Названия столбцов\n",
    "admin1Codes_names=['code', 'name', 'name ascii', 'geonameid']"
   ]
  },
  {
   "cell_type": "code",
   "execution_count": 32,
   "id": "9ad8d22b",
   "metadata": {},
   "outputs": [],
   "source": [
    "# Чтение файла\n",
    "try:\n",
    "    df_admin1CodesASCII = pd.read_csv(patch + 'admin1CodesASCII.txt', sep='\\t', \n",
    "                                      lineterminator='\\n', header=None, names=admin1Codes_names)\n",
    "except FileNotFoundError:\n",
    "    df_admin1CodesASCII = pd.read_csv(patch_1 + 'admin1CodesASCII.txt', sep='\\t', \n",
    "                                      lineterminator='\\n', header=None, names=admin1Codes_names)"
   ]
  },
  {
   "cell_type": "code",
   "execution_count": 33,
   "id": "3baae391",
   "metadata": {
    "scrolled": true
   },
   "outputs": [
    {
     "data": {
      "text/html": [
       "<div>\n",
       "<style scoped>\n",
       "    .dataframe tbody tr th:only-of-type {\n",
       "        vertical-align: middle;\n",
       "    }\n",
       "\n",
       "    .dataframe tbody tr th {\n",
       "        vertical-align: top;\n",
       "    }\n",
       "\n",
       "    .dataframe thead th {\n",
       "        text-align: right;\n",
       "    }\n",
       "</style>\n",
       "<table border=\"1\" class=\"dataframe\">\n",
       "  <thead>\n",
       "    <tr style=\"text-align: right;\">\n",
       "      <th></th>\n",
       "      <th>code</th>\n",
       "      <th>name</th>\n",
       "      <th>name ascii</th>\n",
       "      <th>geonameid</th>\n",
       "    </tr>\n",
       "  </thead>\n",
       "  <tbody>\n",
       "    <tr>\n",
       "      <th>0</th>\n",
       "      <td>AD.06</td>\n",
       "      <td>Sant Julià de Loria</td>\n",
       "      <td>Sant Julia de Loria</td>\n",
       "      <td>3039162</td>\n",
       "    </tr>\n",
       "    <tr>\n",
       "      <th>1</th>\n",
       "      <td>AD.05</td>\n",
       "      <td>Ordino</td>\n",
       "      <td>Ordino</td>\n",
       "      <td>3039676</td>\n",
       "    </tr>\n",
       "    <tr>\n",
       "      <th>2</th>\n",
       "      <td>AD.04</td>\n",
       "      <td>La Massana</td>\n",
       "      <td>La Massana</td>\n",
       "      <td>3040131</td>\n",
       "    </tr>\n",
       "  </tbody>\n",
       "</table>\n",
       "</div>"
      ],
      "text/plain": [
       "    code                 name           name ascii  geonameid\n",
       "0  AD.06  Sant Julià de Loria  Sant Julia de Loria    3039162\n",
       "1  AD.05               Ordino               Ordino    3039676\n",
       "2  AD.04           La Massana           La Massana    3040131"
      ]
     },
     "execution_count": 33,
     "metadata": {},
     "output_type": "execute_result"
    }
   ],
   "source": [
    "df_admin1CodesASCII.head(3)"
   ]
  },
  {
   "cell_type": "code",
   "execution_count": 34,
   "id": "b42b91ad",
   "metadata": {
    "scrolled": true
   },
   "outputs": [
    {
     "data": {
      "text/html": [
       "<div>\n",
       "<style scoped>\n",
       "    .dataframe tbody tr th:only-of-type {\n",
       "        vertical-align: middle;\n",
       "    }\n",
       "\n",
       "    .dataframe tbody tr th {\n",
       "        vertical-align: top;\n",
       "    }\n",
       "\n",
       "    .dataframe thead th {\n",
       "        text-align: right;\n",
       "    }\n",
       "</style>\n",
       "<table border=\"1\" class=\"dataframe\">\n",
       "  <thead>\n",
       "    <tr style=\"text-align: right;\">\n",
       "      <th></th>\n",
       "      <th>code</th>\n",
       "      <th>name</th>\n",
       "      <th>name ascii</th>\n",
       "      <th>geonameid</th>\n",
       "    </tr>\n",
       "  </thead>\n",
       "  <tbody>\n",
       "    <tr>\n",
       "      <th>2820</th>\n",
       "      <td>RU.91</td>\n",
       "      <td>Krasnoyarsk Krai</td>\n",
       "      <td>Krasnoyarsk Krai</td>\n",
       "      <td>1502020</td>\n",
       "    </tr>\n",
       "  </tbody>\n",
       "</table>\n",
       "</div>"
      ],
      "text/plain": [
       "       code              name        name ascii  geonameid\n",
       "2820  RU.91  Krasnoyarsk Krai  Krasnoyarsk Krai    1502020"
      ]
     },
     "execution_count": 34,
     "metadata": {},
     "output_type": "execute_result"
    }
   ],
   "source": [
    "# Проверка кода региона\n",
    "df_admin1CodesASCII[df_admin1CodesASCII['code']=='RU.91']"
   ]
  },
  {
   "cell_type": "code",
   "execution_count": 35,
   "id": "29e7b752",
   "metadata": {},
   "outputs": [
    {
     "name": "stdout",
     "output_type": "stream",
     "text": [
      "Размер таблиы: 4 столбцов и 3880 строк\n",
      "Общее количество пропусков - 0\n",
      "\n",
      "Количество явных дубликатов: 0\n",
      "\n",
      "<class 'pandas.core.frame.DataFrame'>\n",
      "RangeIndex: 3880 entries, 0 to 3879\n",
      "Data columns (total 4 columns):\n",
      " #   Column      Non-Null Count  Dtype \n",
      "---  ------      --------------  ----- \n",
      " 0   code        3880 non-null   object\n",
      " 1   name        3880 non-null   object\n",
      " 2   name ascii  3880 non-null   object\n",
      " 3   geonameid   3880 non-null   int64 \n",
      "dtypes: int64(1), object(3)\n",
      "memory usage: 121.4+ KB\n",
      "None\n",
      "\n"
     ]
    },
    {
     "data": {
      "text/html": [
       "<div>\n",
       "<style scoped>\n",
       "    .dataframe tbody tr th:only-of-type {\n",
       "        vertical-align: middle;\n",
       "    }\n",
       "\n",
       "    .dataframe tbody tr th {\n",
       "        vertical-align: top;\n",
       "    }\n",
       "\n",
       "    .dataframe thead th {\n",
       "        text-align: right;\n",
       "    }\n",
       "</style>\n",
       "<table border=\"1\" class=\"dataframe\">\n",
       "  <thead>\n",
       "    <tr style=\"text-align: right;\">\n",
       "      <th></th>\n",
       "      <th>geonameid</th>\n",
       "    </tr>\n",
       "  </thead>\n",
       "  <tbody>\n",
       "    <tr>\n",
       "      <th>count</th>\n",
       "      <td>3880.00</td>\n",
       "    </tr>\n",
       "    <tr>\n",
       "      <th>mean</th>\n",
       "      <td>3205812.09</td>\n",
       "    </tr>\n",
       "    <tr>\n",
       "      <th>std</th>\n",
       "      <td>2833536.93</td>\n",
       "    </tr>\n",
       "    <tr>\n",
       "      <th>min</th>\n",
       "      <td>50360.00</td>\n",
       "    </tr>\n",
       "    <tr>\n",
       "      <th>25%</th>\n",
       "      <td>934508.00</td>\n",
       "    </tr>\n",
       "    <tr>\n",
       "      <th>50%</th>\n",
       "      <td>2565342.50</td>\n",
       "    </tr>\n",
       "    <tr>\n",
       "      <th>75%</th>\n",
       "      <td>3680855.00</td>\n",
       "    </tr>\n",
       "    <tr>\n",
       "      <th>max</th>\n",
       "      <td>12510145.00</td>\n",
       "    </tr>\n",
       "  </tbody>\n",
       "</table>\n",
       "</div>"
      ],
      "text/plain": [
       "         geonameid\n",
       "count      3880.00\n",
       "mean    3205812.09\n",
       "std     2833536.93\n",
       "min       50360.00\n",
       "25%      934508.00\n",
       "50%     2565342.50\n",
       "75%     3680855.00\n",
       "max    12510145.00"
      ]
     },
     "metadata": {},
     "output_type": "display_data"
    }
   ],
   "source": [
    "# Исследуем датасет\n",
    "info_df(df_admin1CodesASCII)"
   ]
  },
  {
   "cell_type": "markdown",
   "id": "b425bb9e",
   "metadata": {},
   "source": [
    "### Обучающий датасет с альтернативными именами и кодами языков<a id='2.4'></a>"
   ]
  },
  {
   "cell_type": "code",
   "execution_count": 36,
   "id": "cc9080cf",
   "metadata": {},
   "outputs": [],
   "source": [
    "# Названия столбцов\n",
    "alternateNames_names=['alternateNameId', 'geonameid', 'isolanguage', 'alternate name',\n",
    "                      'isPreferredName', 'isShortName', 'isColloquial', 'isHistoric',\n",
    "                      'from', 'to']"
   ]
  },
  {
   "cell_type": "code",
   "execution_count": 37,
   "id": "2669f084",
   "metadata": {},
   "outputs": [],
   "source": [
    "# Чтение файла\n",
    "try:\n",
    "    df_alternateNamesV2 = pd.read_csv(patch + 'alternateNamesV2.txt', sep='\\t', lineterminator='\\n', \n",
    "                                      header=None, low_memory=False, names=alternateNames_names)\n",
    "except FileNotFoundError:\n",
    "    df_alternateNamesV2 = pd.read_csv(patch_1 + 'alternateNamesV2.txt', sep='\\t', lineterminator='\\n', \n",
    "                                      header=None, low_memory=False, names=alternateNames_names)"
   ]
  },
  {
   "cell_type": "code",
   "execution_count": 38,
   "id": "48152f02",
   "metadata": {},
   "outputs": [],
   "source": [
    "# Оставим только исследуемые страны\n",
    "df_alternateNamesV2 = df_alternateNamesV2.query('geonameid in @geonameid_list').reset_index(drop=True)"
   ]
  },
  {
   "cell_type": "code",
   "execution_count": 39,
   "id": "79dd6c9c",
   "metadata": {},
   "outputs": [
    {
     "data": {
      "text/plain": [
       "753"
      ]
     },
     "execution_count": 39,
     "metadata": {},
     "output_type": "execute_result"
    }
   ],
   "source": [
    "# Создание таблицы на сервере\n",
    "df_alternateNamesV2.to_sql('alternateNamesV2', con=engine)"
   ]
  },
  {
   "cell_type": "code",
   "execution_count": 40,
   "id": "1118ae71",
   "metadata": {
    "scrolled": true
   },
   "outputs": [
    {
     "data": {
      "text/html": [
       "<div>\n",
       "<style scoped>\n",
       "    .dataframe tbody tr th:only-of-type {\n",
       "        vertical-align: middle;\n",
       "    }\n",
       "\n",
       "    .dataframe tbody tr th {\n",
       "        vertical-align: top;\n",
       "    }\n",
       "\n",
       "    .dataframe thead th {\n",
       "        text-align: right;\n",
       "    }\n",
       "</style>\n",
       "<table border=\"1\" class=\"dataframe\">\n",
       "  <thead>\n",
       "    <tr style=\"text-align: right;\">\n",
       "      <th></th>\n",
       "      <th>index</th>\n",
       "      <th>alternateNameId</th>\n",
       "      <th>geonameid</th>\n",
       "      <th>isolanguage</th>\n",
       "      <th>alternate name</th>\n",
       "      <th>isPreferredName</th>\n",
       "      <th>isShortName</th>\n",
       "      <th>isColloquial</th>\n",
       "      <th>isHistoric</th>\n",
       "      <th>from</th>\n",
       "      <th>to</th>\n",
       "    </tr>\n",
       "  </thead>\n",
       "  <tbody>\n",
       "    <tr>\n",
       "      <th>0</th>\n",
       "      <td>0</td>\n",
       "      <td>135616</td>\n",
       "      <td>174875</td>\n",
       "      <td>None</td>\n",
       "      <td>Qafan</td>\n",
       "      <td>None</td>\n",
       "      <td>None</td>\n",
       "      <td>None</td>\n",
       "      <td>None</td>\n",
       "      <td>None</td>\n",
       "      <td>None</td>\n",
       "    </tr>\n",
       "    <tr>\n",
       "      <th>1</th>\n",
       "      <td>1</td>\n",
       "      <td>1925363</td>\n",
       "      <td>174875</td>\n",
       "      <td>es</td>\n",
       "      <td>Kapan</td>\n",
       "      <td>None</td>\n",
       "      <td>None</td>\n",
       "      <td>None</td>\n",
       "      <td>None</td>\n",
       "      <td>None</td>\n",
       "      <td>None</td>\n",
       "    </tr>\n",
       "    <tr>\n",
       "      <th>2</th>\n",
       "      <td>2</td>\n",
       "      <td>1925364</td>\n",
       "      <td>174875</td>\n",
       "      <td>en</td>\n",
       "      <td>Kapan</td>\n",
       "      <td>None</td>\n",
       "      <td>None</td>\n",
       "      <td>None</td>\n",
       "      <td>None</td>\n",
       "      <td>None</td>\n",
       "      <td>None</td>\n",
       "    </tr>\n",
       "    <tr>\n",
       "      <th>3</th>\n",
       "      <td>3</td>\n",
       "      <td>1925365</td>\n",
       "      <td>174875</td>\n",
       "      <td>de</td>\n",
       "      <td>Kapan</td>\n",
       "      <td>None</td>\n",
       "      <td>None</td>\n",
       "      <td>None</td>\n",
       "      <td>None</td>\n",
       "      <td>None</td>\n",
       "      <td>None</td>\n",
       "    </tr>\n",
       "    <tr>\n",
       "      <th>4</th>\n",
       "      <td>4</td>\n",
       "      <td>1925366</td>\n",
       "      <td>174875</td>\n",
       "      <td>fa</td>\n",
       "      <td>کاپان</td>\n",
       "      <td>None</td>\n",
       "      <td>None</td>\n",
       "      <td>None</td>\n",
       "      <td>None</td>\n",
       "      <td>None</td>\n",
       "      <td>None</td>\n",
       "    </tr>\n",
       "  </tbody>\n",
       "</table>\n",
       "</div>"
      ],
      "text/plain": [
       "   index  alternateNameId  geonameid isolanguage alternate name  \\\n",
       "0      0           135616     174875        None          Qafan   \n",
       "1      1          1925363     174875          es          Kapan   \n",
       "2      2          1925364     174875          en          Kapan   \n",
       "3      3          1925365     174875          de          Kapan   \n",
       "4      4          1925366     174875          fa          کاپان   \n",
       "\n",
       "  isPreferredName isShortName isColloquial isHistoric  from    to  \n",
       "0            None        None         None       None  None  None  \n",
       "1            None        None         None       None  None  None  \n",
       "2            None        None         None       None  None  None  \n",
       "3            None        None         None       None  None  None  \n",
       "4            None        None         None       None  None  None  "
      ]
     },
     "execution_count": 40,
     "metadata": {},
     "output_type": "execute_result"
    }
   ],
   "source": [
    "query = \"\"\"\n",
    "\n",
    "SELECT * \n",
    "FROM public.\"alternateNamesV2\"\n",
    "LIMIT 5\n",
    "\n",
    "\"\"\"\n",
    "\n",
    "pd.read_sql_query(text(query), con=engine.connect())"
   ]
  },
  {
   "cell_type": "code",
   "execution_count": 41,
   "id": "e26ae636",
   "metadata": {},
   "outputs": [],
   "source": [
    "# Выгрузка таблицы с сервера\n",
    "\n",
    "query = \"\"\"\n",
    "\n",
    "SELECT * \n",
    "FROM public.\"alternateNamesV2\"\n",
    "\n",
    "\"\"\"\n",
    "\n",
    "df_alternateNamesV2 = pd.read_sql_query(text(query), con=engine.connect())"
   ]
  },
  {
   "cell_type": "code",
   "execution_count": 42,
   "id": "6f1e2e92",
   "metadata": {
    "scrolled": true
   },
   "outputs": [
    {
     "data": {
      "text/html": [
       "<div>\n",
       "<style scoped>\n",
       "    .dataframe tbody tr th:only-of-type {\n",
       "        vertical-align: middle;\n",
       "    }\n",
       "\n",
       "    .dataframe tbody tr th {\n",
       "        vertical-align: top;\n",
       "    }\n",
       "\n",
       "    .dataframe thead th {\n",
       "        text-align: right;\n",
       "    }\n",
       "</style>\n",
       "<table border=\"1\" class=\"dataframe\">\n",
       "  <thead>\n",
       "    <tr style=\"text-align: right;\">\n",
       "      <th></th>\n",
       "      <th>index</th>\n",
       "      <th>alternateNameId</th>\n",
       "      <th>geonameid</th>\n",
       "      <th>isolanguage</th>\n",
       "      <th>alternate name</th>\n",
       "      <th>isPreferredName</th>\n",
       "      <th>isShortName</th>\n",
       "      <th>isColloquial</th>\n",
       "      <th>isHistoric</th>\n",
       "      <th>from</th>\n",
       "      <th>to</th>\n",
       "    </tr>\n",
       "  </thead>\n",
       "  <tbody>\n",
       "    <tr>\n",
       "      <th>0</th>\n",
       "      <td>0</td>\n",
       "      <td>135616</td>\n",
       "      <td>174875</td>\n",
       "      <td>None</td>\n",
       "      <td>Qafan</td>\n",
       "      <td>NaN</td>\n",
       "      <td>NaN</td>\n",
       "      <td>NaN</td>\n",
       "      <td>NaN</td>\n",
       "      <td>None</td>\n",
       "      <td>None</td>\n",
       "    </tr>\n",
       "    <tr>\n",
       "      <th>1</th>\n",
       "      <td>1</td>\n",
       "      <td>1925363</td>\n",
       "      <td>174875</td>\n",
       "      <td>es</td>\n",
       "      <td>Kapan</td>\n",
       "      <td>NaN</td>\n",
       "      <td>NaN</td>\n",
       "      <td>NaN</td>\n",
       "      <td>NaN</td>\n",
       "      <td>None</td>\n",
       "      <td>None</td>\n",
       "    </tr>\n",
       "    <tr>\n",
       "      <th>2</th>\n",
       "      <td>2</td>\n",
       "      <td>1925364</td>\n",
       "      <td>174875</td>\n",
       "      <td>en</td>\n",
       "      <td>Kapan</td>\n",
       "      <td>NaN</td>\n",
       "      <td>NaN</td>\n",
       "      <td>NaN</td>\n",
       "      <td>NaN</td>\n",
       "      <td>None</td>\n",
       "      <td>None</td>\n",
       "    </tr>\n",
       "  </tbody>\n",
       "</table>\n",
       "</div>"
      ],
      "text/plain": [
       "   index  alternateNameId  geonameid isolanguage alternate name  \\\n",
       "0      0           135616     174875        None          Qafan   \n",
       "1      1          1925363     174875          es          Kapan   \n",
       "2      2          1925364     174875          en          Kapan   \n",
       "\n",
       "   isPreferredName  isShortName  isColloquial  isHistoric  from    to  \n",
       "0              NaN          NaN           NaN         NaN  None  None  \n",
       "1              NaN          NaN           NaN         NaN  None  None  \n",
       "2              NaN          NaN           NaN         NaN  None  None  "
      ]
     },
     "execution_count": 42,
     "metadata": {},
     "output_type": "execute_result"
    }
   ],
   "source": [
    "df_alternateNamesV2.head(3)"
   ]
  },
  {
   "cell_type": "code",
   "execution_count": 43,
   "id": "a26136bf",
   "metadata": {
    "scrolled": false
   },
   "outputs": [
    {
     "name": "stdout",
     "output_type": "stream",
     "text": [
      "Размер таблиы: 11 столбцов и 29753 строк\n",
      "Общее количество пропусков - 181080\n",
      "isolanguage         4843\n",
      "isPreferredName    28347\n",
      "isShortName        29721\n",
      "isColloquial       29726\n",
      "isHistoric         29300\n",
      "from               29537\n",
      "to                 29606\n",
      "dtype: int64\n",
      "\n",
      "Количество явных дубликатов: 0\n",
      "\n",
      "<class 'pandas.core.frame.DataFrame'>\n",
      "RangeIndex: 29753 entries, 0 to 29752\n",
      "Data columns (total 11 columns):\n",
      " #   Column           Non-Null Count  Dtype  \n",
      "---  ------           --------------  -----  \n",
      " 0   index            29753 non-null  int64  \n",
      " 1   alternateNameId  29753 non-null  int64  \n",
      " 2   geonameid        29753 non-null  int64  \n",
      " 3   isolanguage      24910 non-null  object \n",
      " 4   alternate name   29753 non-null  object \n",
      " 5   isPreferredName  1406 non-null   float64\n",
      " 6   isShortName      32 non-null     float64\n",
      " 7   isColloquial     27 non-null     float64\n",
      " 8   isHistoric       453 non-null    float64\n",
      " 9   from             216 non-null    object \n",
      " 10  to               147 non-null    object \n",
      "dtypes: float64(4), int64(3), object(4)\n",
      "memory usage: 2.5+ MB\n",
      "None\n",
      "\n"
     ]
    },
    {
     "data": {
      "text/html": [
       "<div>\n",
       "<style scoped>\n",
       "    .dataframe tbody tr th:only-of-type {\n",
       "        vertical-align: middle;\n",
       "    }\n",
       "\n",
       "    .dataframe tbody tr th {\n",
       "        vertical-align: top;\n",
       "    }\n",
       "\n",
       "    .dataframe thead th {\n",
       "        text-align: right;\n",
       "    }\n",
       "</style>\n",
       "<table border=\"1\" class=\"dataframe\">\n",
       "  <thead>\n",
       "    <tr style=\"text-align: right;\">\n",
       "      <th></th>\n",
       "      <th>index</th>\n",
       "      <th>alternateNameId</th>\n",
       "      <th>geonameid</th>\n",
       "      <th>isPreferredName</th>\n",
       "      <th>isShortName</th>\n",
       "      <th>isColloquial</th>\n",
       "      <th>isHistoric</th>\n",
       "    </tr>\n",
       "  </thead>\n",
       "  <tbody>\n",
       "    <tr>\n",
       "      <th>count</th>\n",
       "      <td>29753.0</td>\n",
       "      <td>29753.00</td>\n",
       "      <td>29753.00</td>\n",
       "      <td>1406.0</td>\n",
       "      <td>32.0</td>\n",
       "      <td>27.0</td>\n",
       "      <td>453.0</td>\n",
       "    </tr>\n",
       "    <tr>\n",
       "      <th>mean</th>\n",
       "      <td>14876.0</td>\n",
       "      <td>6406562.62</td>\n",
       "      <td>845479.65</td>\n",
       "      <td>1.0</td>\n",
       "      <td>1.0</td>\n",
       "      <td>1.0</td>\n",
       "      <td>1.0</td>\n",
       "    </tr>\n",
       "    <tr>\n",
       "      <th>std</th>\n",
       "      <td>8589.1</td>\n",
       "      <td>4601673.12</td>\n",
       "      <td>729517.77</td>\n",
       "      <td>0.0</td>\n",
       "      <td>0.0</td>\n",
       "      <td>0.0</td>\n",
       "      <td>0.0</td>\n",
       "    </tr>\n",
       "    <tr>\n",
       "      <th>min</th>\n",
       "      <td>0.0</td>\n",
       "      <td>300.00</td>\n",
       "      <td>174875.00</td>\n",
       "      <td>1.0</td>\n",
       "      <td>1.0</td>\n",
       "      <td>1.0</td>\n",
       "      <td>1.0</td>\n",
       "    </tr>\n",
       "    <tr>\n",
       "      <th>25%</th>\n",
       "      <td>7438.0</td>\n",
       "      <td>1927090.00</td>\n",
       "      <td>498687.00</td>\n",
       "      <td>1.0</td>\n",
       "      <td>1.0</td>\n",
       "      <td>1.0</td>\n",
       "      <td>1.0</td>\n",
       "    </tr>\n",
       "    <tr>\n",
       "      <th>50%</th>\n",
       "      <td>14876.0</td>\n",
       "      <td>7183220.00</td>\n",
       "      <td>560756.00</td>\n",
       "      <td>1.0</td>\n",
       "      <td>1.0</td>\n",
       "      <td>1.0</td>\n",
       "      <td>1.0</td>\n",
       "    </tr>\n",
       "    <tr>\n",
       "      <th>75%</th>\n",
       "      <td>22314.0</td>\n",
       "      <td>9379115.00</td>\n",
       "      <td>792680.00</td>\n",
       "      <td>1.0</td>\n",
       "      <td>1.0</td>\n",
       "      <td>1.0</td>\n",
       "      <td>1.0</td>\n",
       "    </tr>\n",
       "    <tr>\n",
       "      <th>max</th>\n",
       "      <td>29752.0</td>\n",
       "      <td>17681976.00</td>\n",
       "      <td>12041452.00</td>\n",
       "      <td>1.0</td>\n",
       "      <td>1.0</td>\n",
       "      <td>1.0</td>\n",
       "      <td>1.0</td>\n",
       "    </tr>\n",
       "  </tbody>\n",
       "</table>\n",
       "</div>"
      ],
      "text/plain": [
       "         index  alternateNameId    geonameid  isPreferredName  isShortName  \\\n",
       "count  29753.0         29753.00     29753.00           1406.0         32.0   \n",
       "mean   14876.0       6406562.62    845479.65              1.0          1.0   \n",
       "std     8589.1       4601673.12    729517.77              0.0          0.0   \n",
       "min        0.0           300.00    174875.00              1.0          1.0   \n",
       "25%     7438.0       1927090.00    498687.00              1.0          1.0   \n",
       "50%    14876.0       7183220.00    560756.00              1.0          1.0   \n",
       "75%    22314.0       9379115.00    792680.00              1.0          1.0   \n",
       "max    29752.0      17681976.00  12041452.00              1.0          1.0   \n",
       "\n",
       "       isColloquial  isHistoric  \n",
       "count          27.0       453.0  \n",
       "mean            1.0         1.0  \n",
       "std             0.0         0.0  \n",
       "min             1.0         1.0  \n",
       "25%             1.0         1.0  \n",
       "50%             1.0         1.0  \n",
       "75%             1.0         1.0  \n",
       "max             1.0         1.0  "
      ]
     },
     "metadata": {},
     "output_type": "display_data"
    }
   ],
   "source": [
    "# Исследуем датасет\n",
    "info_df(df_alternateNamesV2)"
   ]
  },
  {
   "cell_type": "markdown",
   "id": "09b52c93",
   "metadata": {},
   "source": [
    "**Список альтернативных названий**\n",
    "\n",
    "Создадим обучающую выборку"
   ]
  },
  {
   "cell_type": "code",
   "execution_count": 44,
   "id": "06b0a944",
   "metadata": {},
   "outputs": [
    {
     "data": {
      "text/html": [
       "<div>\n",
       "<style scoped>\n",
       "    .dataframe tbody tr th:only-of-type {\n",
       "        vertical-align: middle;\n",
       "    }\n",
       "\n",
       "    .dataframe tbody tr th {\n",
       "        vertical-align: top;\n",
       "    }\n",
       "\n",
       "    .dataframe thead th {\n",
       "        text-align: right;\n",
       "    }\n",
       "</style>\n",
       "<table border=\"1\" class=\"dataframe\">\n",
       "  <thead>\n",
       "    <tr style=\"text-align: right;\">\n",
       "      <th></th>\n",
       "      <th>alternatenames</th>\n",
       "      <th>geonameid</th>\n",
       "    </tr>\n",
       "  </thead>\n",
       "  <tbody>\n",
       "    <tr>\n",
       "      <th>0</th>\n",
       "      <td>Ghap'an</td>\n",
       "      <td>174875</td>\n",
       "    </tr>\n",
       "    <tr>\n",
       "      <th>1</th>\n",
       "      <td>Ghapan</td>\n",
       "      <td>174875</td>\n",
       "    </tr>\n",
       "  </tbody>\n",
       "</table>\n",
       "</div>"
      ],
      "text/plain": [
       "  alternatenames  geonameid\n",
       "0        Ghap'an     174875\n",
       "1         Ghapan     174875"
      ]
     },
     "execution_count": 44,
     "metadata": {},
     "output_type": "execute_result"
    }
   ],
   "source": [
    "df_altern.head(2)"
   ]
  },
  {
   "cell_type": "code",
   "execution_count": 45,
   "id": "8e8c0081",
   "metadata": {},
   "outputs": [],
   "source": [
    "# Создадим вторую часть датафейма альтернативных названий\n",
    "df_altern_alternateNamesV2 = df_alternateNamesV2.loc[:, ['geonameid', 'alternate name']].copy()\n",
    "df_altern_alternateNamesV2 = df_altern_alternateNamesV2.drop_duplicates().reset_index(drop=True)\n",
    "df_altern_alternateNamesV2.columns = ['geonameid', 'alternatenames']"
   ]
  },
  {
   "cell_type": "code",
   "execution_count": 46,
   "id": "933059ff",
   "metadata": {},
   "outputs": [
    {
     "data": {
      "text/html": [
       "<div>\n",
       "<style scoped>\n",
       "    .dataframe tbody tr th:only-of-type {\n",
       "        vertical-align: middle;\n",
       "    }\n",
       "\n",
       "    .dataframe tbody tr th {\n",
       "        vertical-align: top;\n",
       "    }\n",
       "\n",
       "    .dataframe thead th {\n",
       "        text-align: right;\n",
       "    }\n",
       "</style>\n",
       "<table border=\"1\" class=\"dataframe\">\n",
       "  <thead>\n",
       "    <tr style=\"text-align: right;\">\n",
       "      <th></th>\n",
       "      <th>geonameid</th>\n",
       "      <th>alternatenames</th>\n",
       "    </tr>\n",
       "  </thead>\n",
       "  <tbody>\n",
       "    <tr>\n",
       "      <th>21285</th>\n",
       "      <td>11238838</td>\n",
       "      <td>https://tr.wikipedia.org/wiki/Merkezefendi</td>\n",
       "    </tr>\n",
       "    <tr>\n",
       "      <th>21286</th>\n",
       "      <td>11238838</td>\n",
       "      <td>https://en.wikipedia.org/wiki/Merkezefendi</td>\n",
       "    </tr>\n",
       "  </tbody>\n",
       "</table>\n",
       "</div>"
      ],
      "text/plain": [
       "       geonameid                              alternatenames\n",
       "21285   11238838  https://tr.wikipedia.org/wiki/Merkezefendi\n",
       "21286   11238838  https://en.wikipedia.org/wiki/Merkezefendi"
      ]
     },
     "execution_count": 46,
     "metadata": {},
     "output_type": "execute_result"
    }
   ],
   "source": [
    "df_altern_alternateNamesV2.tail(2)"
   ]
  },
  {
   "cell_type": "code",
   "execution_count": 47,
   "id": "de64ecc3",
   "metadata": {},
   "outputs": [],
   "source": [
    "# Объединим датафреймы\n",
    "df_altern_all = pd.concat([df_altern, df_altern_alternateNamesV2], keys=['alternatenames', 'geonameid']).reset_index(drop=True)"
   ]
  },
  {
   "cell_type": "code",
   "execution_count": 48,
   "id": "c7a2606d",
   "metadata": {},
   "outputs": [
    {
     "data": {
      "text/html": [
       "<div>\n",
       "<style scoped>\n",
       "    .dataframe tbody tr th:only-of-type {\n",
       "        vertical-align: middle;\n",
       "    }\n",
       "\n",
       "    .dataframe tbody tr th {\n",
       "        vertical-align: top;\n",
       "    }\n",
       "\n",
       "    .dataframe thead th {\n",
       "        text-align: right;\n",
       "    }\n",
       "</style>\n",
       "<table border=\"1\" class=\"dataframe\">\n",
       "  <thead>\n",
       "    <tr style=\"text-align: right;\">\n",
       "      <th></th>\n",
       "      <th>alternatenames</th>\n",
       "      <th>geonameid</th>\n",
       "    </tr>\n",
       "  </thead>\n",
       "  <tbody>\n",
       "    <tr>\n",
       "      <th>0</th>\n",
       "      <td>Ghap'an</td>\n",
       "      <td>174875</td>\n",
       "    </tr>\n",
       "    <tr>\n",
       "      <th>1</th>\n",
       "      <td>Ghapan</td>\n",
       "      <td>174875</td>\n",
       "    </tr>\n",
       "  </tbody>\n",
       "</table>\n",
       "</div>"
      ],
      "text/plain": [
       "  alternatenames  geonameid\n",
       "0        Ghap'an     174875\n",
       "1         Ghapan     174875"
      ]
     },
     "execution_count": 48,
     "metadata": {},
     "output_type": "execute_result"
    }
   ],
   "source": [
    "df_altern_all.head(2)"
   ]
  },
  {
   "cell_type": "code",
   "execution_count": 49,
   "id": "209819e6",
   "metadata": {
    "scrolled": true
   },
   "outputs": [
    {
     "data": {
      "text/html": [
       "<div>\n",
       "<style scoped>\n",
       "    .dataframe tbody tr th:only-of-type {\n",
       "        vertical-align: middle;\n",
       "    }\n",
       "\n",
       "    .dataframe tbody tr th {\n",
       "        vertical-align: top;\n",
       "    }\n",
       "\n",
       "    .dataframe thead th {\n",
       "        text-align: right;\n",
       "    }\n",
       "</style>\n",
       "<table border=\"1\" class=\"dataframe\">\n",
       "  <thead>\n",
       "    <tr style=\"text-align: right;\">\n",
       "      <th></th>\n",
       "      <th>alternatenames</th>\n",
       "      <th>geonameid</th>\n",
       "    </tr>\n",
       "  </thead>\n",
       "  <tbody>\n",
       "    <tr>\n",
       "      <th>45463</th>\n",
       "      <td>https://tr.wikipedia.org/wiki/Merkezefendi</td>\n",
       "      <td>11238838</td>\n",
       "    </tr>\n",
       "    <tr>\n",
       "      <th>45464</th>\n",
       "      <td>https://en.wikipedia.org/wiki/Merkezefendi</td>\n",
       "      <td>11238838</td>\n",
       "    </tr>\n",
       "  </tbody>\n",
       "</table>\n",
       "</div>"
      ],
      "text/plain": [
       "                                   alternatenames  geonameid\n",
       "45463  https://tr.wikipedia.org/wiki/Merkezefendi   11238838\n",
       "45464  https://en.wikipedia.org/wiki/Merkezefendi   11238838"
      ]
     },
     "execution_count": 49,
     "metadata": {},
     "output_type": "execute_result"
    }
   ],
   "source": [
    "df_altern_all.tail(2)"
   ]
  },
  {
   "cell_type": "code",
   "execution_count": 50,
   "id": "0ddebd4d",
   "metadata": {},
   "outputs": [],
   "source": [
    "# Удалим строки, содержащие ссылки\n",
    "df_altern_all = df_altern_all[~df_altern_all.alternatenames.str.contains('https://')].copy()"
   ]
  },
  {
   "cell_type": "code",
   "execution_count": 51,
   "id": "78331598",
   "metadata": {},
   "outputs": [
    {
     "data": {
      "text/html": [
       "<div>\n",
       "<style scoped>\n",
       "    .dataframe tbody tr th:only-of-type {\n",
       "        vertical-align: middle;\n",
       "    }\n",
       "\n",
       "    .dataframe tbody tr th {\n",
       "        vertical-align: top;\n",
       "    }\n",
       "\n",
       "    .dataframe thead th {\n",
       "        text-align: right;\n",
       "    }\n",
       "</style>\n",
       "<table border=\"1\" class=\"dataframe\">\n",
       "  <thead>\n",
       "    <tr style=\"text-align: right;\">\n",
       "      <th></th>\n",
       "      <th>alternatenames</th>\n",
       "      <th>geonameid</th>\n",
       "    </tr>\n",
       "  </thead>\n",
       "  <tbody>\n",
       "    <tr>\n",
       "      <th>45459</th>\n",
       "      <td>TRYLI</td>\n",
       "      <td>7628419</td>\n",
       "    </tr>\n",
       "    <tr>\n",
       "      <th>45462</th>\n",
       "      <td>Muratpaşa</td>\n",
       "      <td>8074174</td>\n",
       "    </tr>\n",
       "  </tbody>\n",
       "</table>\n",
       "</div>"
      ],
      "text/plain": [
       "      alternatenames  geonameid\n",
       "45459          TRYLI    7628419\n",
       "45462      Muratpaşa    8074174"
      ]
     },
     "execution_count": 51,
     "metadata": {},
     "output_type": "execute_result"
    }
   ],
   "source": [
    "df_altern_all.tail(2)"
   ]
  },
  {
   "cell_type": "code",
   "execution_count": 52,
   "id": "e059d75e",
   "metadata": {},
   "outputs": [],
   "source": [
    "# Наименования приведем к нижниму регистру и очистим от лишних символов\n",
    "df_altern_all['alternatename'] = df_altern_all['alternatenames'].apply(clear_text)\n",
    "df_altern_all.drop('alternatenames', axis=1, inplace=True)\n",
    "df_altern_all = df_altern_all.drop_duplicates().reset_index(drop=True)"
   ]
  },
  {
   "cell_type": "code",
   "execution_count": 53,
   "id": "bd0e22a0",
   "metadata": {},
   "outputs": [],
   "source": [
    "# Создадим столбец с транслитированными русскими названиями\n",
    "df_altern_all['alternatename_1'] = df_altern_all['alternatename'].apply(translit)\n",
    "df_altern_all['alternatename_en'] = df_altern_all['alternatename_1'].apply(clear_text)\n",
    "df_altern_all.drop('alternatename_1', axis=1, inplace=True)"
   ]
  },
  {
   "cell_type": "code",
   "execution_count": 54,
   "id": "a3ebe23c",
   "metadata": {},
   "outputs": [
    {
     "data": {
      "text/html": [
       "<div>\n",
       "<style scoped>\n",
       "    .dataframe tbody tr th:only-of-type {\n",
       "        vertical-align: middle;\n",
       "    }\n",
       "\n",
       "    .dataframe tbody tr th {\n",
       "        vertical-align: top;\n",
       "    }\n",
       "\n",
       "    .dataframe thead th {\n",
       "        text-align: right;\n",
       "    }\n",
       "</style>\n",
       "<table border=\"1\" class=\"dataframe\">\n",
       "  <thead>\n",
       "    <tr style=\"text-align: right;\">\n",
       "      <th></th>\n",
       "      <th>geonameid</th>\n",
       "      <th>alternatename</th>\n",
       "      <th>alternatename_en</th>\n",
       "    </tr>\n",
       "  </thead>\n",
       "  <tbody>\n",
       "    <tr>\n",
       "      <th>0</th>\n",
       "      <td>174875</td>\n",
       "      <td>ghap an</td>\n",
       "      <td>ghap an</td>\n",
       "    </tr>\n",
       "    <tr>\n",
       "      <th>1</th>\n",
       "      <td>174875</td>\n",
       "      <td>ghapan</td>\n",
       "      <td>ghapan</td>\n",
       "    </tr>\n",
       "  </tbody>\n",
       "</table>\n",
       "</div>"
      ],
      "text/plain": [
       "   geonameid alternatename alternatename_en\n",
       "0     174875       ghap an          ghap an\n",
       "1     174875        ghapan           ghapan"
      ]
     },
     "execution_count": 54,
     "metadata": {},
     "output_type": "execute_result"
    }
   ],
   "source": [
    "df_altern_all.head(2)"
   ]
  },
  {
   "cell_type": "code",
   "execution_count": 55,
   "id": "5b9b9b18",
   "metadata": {
    "scrolled": true
   },
   "outputs": [
    {
     "data": {
      "text/html": [
       "<div>\n",
       "<style scoped>\n",
       "    .dataframe tbody tr th:only-of-type {\n",
       "        vertical-align: middle;\n",
       "    }\n",
       "\n",
       "    .dataframe tbody tr th {\n",
       "        vertical-align: top;\n",
       "    }\n",
       "\n",
       "    .dataframe thead th {\n",
       "        text-align: right;\n",
       "    }\n",
       "</style>\n",
       "<table border=\"1\" class=\"dataframe\">\n",
       "  <thead>\n",
       "    <tr style=\"text-align: right;\">\n",
       "      <th></th>\n",
       "      <th>geonameid</th>\n",
       "      <th>alternatename</th>\n",
       "      <th>alternatename_en</th>\n",
       "    </tr>\n",
       "  </thead>\n",
       "  <tbody>\n",
       "    <tr>\n",
       "      <th>15791</th>\n",
       "      <td>2122104</td>\n",
       "      <td>петропавловськ-камчатський</td>\n",
       "      <td>petropavlovs k-kamchats kiy</td>\n",
       "    </tr>\n",
       "  </tbody>\n",
       "</table>\n",
       "</div>"
      ],
      "text/plain": [
       "       geonameid               alternatename             alternatename_en\n",
       "15791    2122104  петропавловськ-камчатський  petropavlovs k-kamchats kiy"
      ]
     },
     "execution_count": 55,
     "metadata": {},
     "output_type": "execute_result"
    }
   ],
   "source": [
    "df_altern_all[df_altern_all['alternatename']=='петропавловськ-камчатський']"
   ]
  },
  {
   "cell_type": "code",
   "execution_count": 56,
   "id": "b8b11dad",
   "metadata": {
    "scrolled": true
   },
   "outputs": [
    {
     "name": "stdout",
     "output_type": "stream",
     "text": [
      "Размер таблиы: 3 столбцов и 21232 строк\n",
      "Общее количество пропусков - 0\n",
      "\n",
      "Количество явных дубликатов: 0\n",
      "\n",
      "<class 'pandas.core.frame.DataFrame'>\n",
      "RangeIndex: 21232 entries, 0 to 21231\n",
      "Data columns (total 3 columns):\n",
      " #   Column            Non-Null Count  Dtype \n",
      "---  ------            --------------  ----- \n",
      " 0   geonameid         21232 non-null  int64 \n",
      " 1   alternatename     21232 non-null  object\n",
      " 2   alternatename_en  21232 non-null  object\n",
      "dtypes: int64(1), object(2)\n",
      "memory usage: 497.8+ KB\n",
      "None\n",
      "\n"
     ]
    },
    {
     "data": {
      "text/html": [
       "<div>\n",
       "<style scoped>\n",
       "    .dataframe tbody tr th:only-of-type {\n",
       "        vertical-align: middle;\n",
       "    }\n",
       "\n",
       "    .dataframe tbody tr th {\n",
       "        vertical-align: top;\n",
       "    }\n",
       "\n",
       "    .dataframe thead th {\n",
       "        text-align: right;\n",
       "    }\n",
       "</style>\n",
       "<table border=\"1\" class=\"dataframe\">\n",
       "  <thead>\n",
       "    <tr style=\"text-align: right;\">\n",
       "      <th></th>\n",
       "      <th>geonameid</th>\n",
       "    </tr>\n",
       "  </thead>\n",
       "  <tbody>\n",
       "    <tr>\n",
       "      <th>count</th>\n",
       "      <td>21232.00</td>\n",
       "    </tr>\n",
       "    <tr>\n",
       "      <th>mean</th>\n",
       "      <td>852851.82</td>\n",
       "    </tr>\n",
       "    <tr>\n",
       "      <th>std</th>\n",
       "      <td>785273.78</td>\n",
       "    </tr>\n",
       "    <tr>\n",
       "      <th>min</th>\n",
       "      <td>174875.00</td>\n",
       "    </tr>\n",
       "    <tr>\n",
       "      <th>25%</th>\n",
       "      <td>498817.00</td>\n",
       "    </tr>\n",
       "    <tr>\n",
       "      <th>50%</th>\n",
       "      <td>559317.00</td>\n",
       "    </tr>\n",
       "    <tr>\n",
       "      <th>75%</th>\n",
       "      <td>789923.00</td>\n",
       "    </tr>\n",
       "    <tr>\n",
       "      <th>max</th>\n",
       "      <td>12041452.00</td>\n",
       "    </tr>\n",
       "  </tbody>\n",
       "</table>\n",
       "</div>"
      ],
      "text/plain": [
       "         geonameid\n",
       "count     21232.00\n",
       "mean     852851.82\n",
       "std      785273.78\n",
       "min      174875.00\n",
       "25%      498817.00\n",
       "50%      559317.00\n",
       "75%      789923.00\n",
       "max    12041452.00"
      ]
     },
     "metadata": {},
     "output_type": "display_data"
    }
   ],
   "source": [
    "# Исследуем датасет\n",
    "info_df(df_altern_all)"
   ]
  },
  {
   "cell_type": "code",
   "execution_count": 57,
   "id": "519fbca6",
   "metadata": {},
   "outputs": [
    {
     "data": {
      "text/plain": [
       "232"
      ]
     },
     "execution_count": 57,
     "metadata": {},
     "output_type": "execute_result"
    }
   ],
   "source": [
    "# Создание обучающего датафрейма на сервере\n",
    "df_altern_all.to_sql('altern_all', con=engine)"
   ]
  },
  {
   "cell_type": "code",
   "execution_count": 58,
   "id": "d2624d6a",
   "metadata": {},
   "outputs": [],
   "source": [
    "# Выгрузка таблицы с сервера\n",
    "\n",
    "query = \"\"\"\n",
    "\n",
    "SELECT * \n",
    "FROM altern_all\n",
    "\n",
    "\"\"\"\n",
    "\n",
    "df_altern_all = pd.read_sql_query(text(query), con=engine.connect())"
   ]
  },
  {
   "cell_type": "markdown",
   "id": "7affbb9e",
   "metadata": {},
   "source": [
    "**Вывод**\n",
    "\n",
    "Предоставленный датасет с альтернативными именами, также излишен по объему. В связи с этим, как и с датасетом о городах, в целях ускорения решения поставленной задачи, в датасете альтернативных имен оставлены только города, входящие в список исследуемых стран.\n",
    "\n",
    "Все альтернативные названия добавлены в обучающий датасет. Из обучающего датасета удалены ссылки, проведена очистка текста и создан столбец с транслитированным наименованием.\n",
    "\n",
    "Обучающий датасет загружен на сервер для дальнейшей работы с ним\n"
   ]
  },
  {
   "cell_type": "markdown",
   "id": "89df18b4",
   "metadata": {},
   "source": [
    "## Обучение<a id='3'></a>"
   ]
  },
  {
   "cell_type": "markdown",
   "id": "5b21c1c1",
   "metadata": {},
   "source": [
    "**Рзделение признаков**"
   ]
  },
  {
   "cell_type": "code",
   "execution_count": 59,
   "id": "48242b55",
   "metadata": {},
   "outputs": [],
   "source": [
    "# Обучающий корпус\n",
    "corpus = pd.Series(df_altern_all['alternatename'])\n",
    "corpus_en = pd.Series(df_altern_all['alternatename_en'])\n",
    "# Целевой показатель\n",
    "answ = pd.Series(df_altern_all['geonameid'])"
   ]
  },
  {
   "cell_type": "markdown",
   "id": "9c141327",
   "metadata": {},
   "source": [
    "### Евклидово расстояние для кириллицы<a id='3.1'></a>"
   ]
  },
  {
   "cell_type": "code",
   "execution_count": 60,
   "id": "3392ba23",
   "metadata": {},
   "outputs": [
    {
     "data": {
      "text/plain": [
       "array([' -', ' 0', ' 1', ..., 'ёп', 'ёр', 'ёх'], dtype=object)"
      ]
     },
     "execution_count": 60,
     "metadata": {},
     "output_type": "execute_result"
    }
   ],
   "source": [
    "# создаем мешок слов\n",
    "vectorizer_e = CountVectorizer(analyzer='char_wb', ngram_range=(2, 2))\n",
    "bow_e = vectorizer_e.fit_transform(corpus)\n",
    "vectorizer_e.get_feature_names_out()"
   ]
  },
  {
   "cell_type": "code",
   "execution_count": 61,
   "id": "8e711b6a",
   "metadata": {
    "scrolled": true
   },
   "outputs": [
    {
     "data": {
      "text/plain": [
       "(21232, 1711)"
      ]
     },
     "execution_count": 61,
     "metadata": {},
     "output_type": "execute_result"
    }
   ],
   "source": [
    "bow_e.shape"
   ]
  },
  {
   "cell_type": "code",
   "execution_count": 62,
   "id": "fafa847e",
   "metadata": {},
   "outputs": [],
   "source": [
    "# Запрос\n",
    "text = 'ekaterinbyrg'"
   ]
  },
  {
   "cell_type": "code",
   "execution_count": 63,
   "id": "32a03d8c",
   "metadata": {},
   "outputs": [],
   "source": [
    "# Преобразуем входную строку в вектор \n",
    "questi = pd.Series(clear_text(text))\n",
    "query_vec = vectorizer_e.transform(questi)"
   ]
  },
  {
   "cell_type": "code",
   "execution_count": 64,
   "id": "72760cbd",
   "metadata": {
    "scrolled": true
   },
   "outputs": [
    {
     "name": "stdout",
     "output_type": "stream",
     "text": [
      "1486209\n",
      "ekaterinburg\n",
      "Yekaterinburg\n",
      "\n",
      "1486209\n",
      "ekaterinbourg\n",
      "Yekaterinburg\n",
      "\n",
      "1486209\n",
      "jekaterinburg\n",
      "Yekaterinburg\n",
      "\n",
      "1486209\n",
      "ekaterinburgo\n",
      "Yekaterinburg\n",
      "\n",
      "1486209\n",
      "yekaterinburg\n",
      "Yekaterinburg\n",
      "\n"
     ]
    }
   ],
   "source": [
    "# Число строк вывода\n",
    "n_strings = 5\n",
    "\n",
    "# вычисляем евклидово расстояние между новой строкой и всеми строками в мешке слов\n",
    "distances = euclidean_distances(query_vec, bow_e)\n",
    "\n",
    "# получаем индекс наиболее близкой строки\n",
    "top_indices = distances.argsort()[0][:n_strings]\n",
    "\n",
    "for tops in range(n_strings):\n",
    "    # Ответ\n",
    "    answ_text = answ[int(top_indices[tops])]\n",
    "    print(answ_text)\n",
    "\n",
    "    # выводим наиболее близкую строку\n",
    "    top_strings = [corpus[i] for i in top_indices]\n",
    "    print(top_strings[tops])\n",
    "\n",
    "    print(df_cities1500.loc[df_cities1500['geonameid']==answ_text, 'name'].to_string(index=False))\n",
    "    print()"
   ]
  },
  {
   "cell_type": "markdown",
   "id": "b3b9fe12",
   "metadata": {},
   "source": [
    "Создадим функцию для рассчета Евклидова расстояниа без транслитирования"
   ]
  },
  {
   "cell_type": "code",
   "execution_count": 65,
   "id": "017249b8",
   "metadata": {},
   "outputs": [],
   "source": [
    "# Функция расчета Евклидова расстояния без транслитирования\n",
    "\n",
    "def euclid_rus(text, num=1):\n",
    "    \n",
    "    # Преобразуем входную строку в вектор \n",
    "    questi = pd.Series(clear_text(text))\n",
    "    query_vec = vectorizer_e.transform(questi)\n",
    "    \n",
    "    # вычисляем евклидово расстояние между новой строкой и всеми строками в мешке слов\n",
    "    distances = euclidean_distances(query_vec, bow_e)\n",
    "\n",
    "    # получаем индекс наиболее близкой строки\n",
    "    top_indices = distances.argsort()[0][:num]\n",
    "    \n",
    "    # Список вывода \n",
    "    top_strings_list = []\n",
    "\n",
    "    for tops in range(num):\n",
    "        # Ответ\n",
    "        answ_text = answ[int(top_indices[tops])]\n",
    "        answ_str = df_cities1500.loc[df_cities1500['geonameid']==answ_text, 'name'].to_string(index=False)\n",
    "        top_strings_list.append(answ_str)\n",
    "        \n",
    "    return top_strings_list\n"
   ]
  },
  {
   "cell_type": "code",
   "execution_count": 66,
   "id": "d6eda352",
   "metadata": {},
   "outputs": [
    {
     "data": {
      "text/plain": [
       "['Saint Petersburg',\n",
       " 'Saint Petersburg',\n",
       " 'Saint Petersburg',\n",
       " 'Saint Petersburg',\n",
       " 'Saint Petersburg']"
      ]
     },
     "execution_count": 66,
     "metadata": {},
     "output_type": "execute_result"
    }
   ],
   "source": [
    "euclid_rus('Petersburg', 5)"
   ]
  },
  {
   "cell_type": "markdown",
   "id": "47ea4456",
   "metadata": {},
   "source": [
    "### Косинусное расстояние<a id='3.2'></a>"
   ]
  },
  {
   "cell_type": "code",
   "execution_count": 67,
   "id": "52503a53",
   "metadata": {},
   "outputs": [
    {
     "data": {
      "text/plain": [
       "array([' ', ' -', ' - ', ..., 'ёры', 'ёх', 'ёхг'], dtype=object)"
      ]
     },
     "execution_count": 67,
     "metadata": {},
     "output_type": "execute_result"
    }
   ],
   "source": [
    "# создаем мешок слов\n",
    "vectorizer_c = CountVectorizer(analyzer='char_wb', ngram_range=(1, 3))\n",
    "bow_c = vectorizer_c.fit_transform(corpus)\n",
    "vectorizer_c.get_feature_names_out()"
   ]
  },
  {
   "cell_type": "code",
   "execution_count": 68,
   "id": "805ab1aa",
   "metadata": {},
   "outputs": [],
   "source": [
    "# Преобразуем входную строку в вектор \n",
    "questi = clear_text(text)\n",
    "query_vec = vectorizer_c.transform([questi]).toarray()[0]"
   ]
  },
  {
   "cell_type": "code",
   "execution_count": 69,
   "id": "51dc957b",
   "metadata": {},
   "outputs": [
    {
     "name": "stderr",
     "output_type": "stream",
     "text": [
      "C:\\Users\\User\\miniconda3\\lib\\site-packages\\scipy\\spatial\\distance.py:636: RuntimeWarning: invalid value encountered in scalar divide\n",
      "  dist = 1.0 - uv / np.sqrt(uu * vv)\n"
     ]
    }
   ],
   "source": [
    "# Расчет косинусного расстояния\n",
    "cos_distances = {}\n",
    "for word in corpus:\n",
    "    word_vect = vectorizer_c.transform([word]).toarray()[0]\n",
    "    distances = 1-distance.cosine(word_vect, query_vec)\n",
    "    cos_distances[word] = distances\n"
   ]
  },
  {
   "cell_type": "code",
   "execution_count": 70,
   "id": "3e2a069c",
   "metadata": {},
   "outputs": [
    {
     "name": "stdout",
     "output_type": "stream",
     "text": [
      "[('петропавловськ-камчатський', 0.05738343500421794), ('петропавловск-камчатский', 0.0606966995739181), ('петропавловск-камчатски', 0.061618727544822005), ('орехово-борисово', 0.06258409275407506), ('очаково-матвеевское', 0.06359630007488937)]\n"
     ]
    }
   ],
   "source": [
    "sorted_cos_distances = sorted(cos_distances.items(), key=lambda x: x[1])\n",
    "print(sorted_cos_distances[:5])"
   ]
  },
  {
   "cell_type": "markdown",
   "id": "165d04df",
   "metadata": {},
   "source": [
    "### Евклидово расстояние с переводом в латиницу<a id='3.3'></a>"
   ]
  },
  {
   "cell_type": "code",
   "execution_count": 71,
   "id": "961c2f28",
   "metadata": {},
   "outputs": [
    {
     "data": {
      "text/plain": [
       "array([' -', ' 0', ' 1', ' 2', ' 3', ' 6', ' a', ' b', ' c', ' d', ' e',\n",
       "       ' f', ' g', ' h', ' i', ' j', ' k', ' l', ' m', ' n', ' o', ' p',\n",
       "       ' q', ' r', ' s', ' t', ' u', ' v', ' w', ' x'], dtype=object)"
      ]
     },
     "execution_count": 71,
     "metadata": {},
     "output_type": "execute_result"
    }
   ],
   "source": [
    "# создаем мешок слов\n",
    "vectorizer_en = CountVectorizer(analyzer='char_wb', ngram_range=(2, 2))\n",
    "bow_en = vectorizer_en.fit_transform(corpus_en)\n",
    "vectorizer_en.get_feature_names_out()[:30]"
   ]
  },
  {
   "cell_type": "code",
   "execution_count": 72,
   "id": "886af355",
   "metadata": {
    "scrolled": true
   },
   "outputs": [
    {
     "data": {
      "text/plain": [
       "(21232, 889)"
      ]
     },
     "execution_count": 72,
     "metadata": {},
     "output_type": "execute_result"
    }
   ],
   "source": [
    "bow_en.shape"
   ]
  },
  {
   "cell_type": "code",
   "execution_count": 73,
   "id": "932edf13",
   "metadata": {},
   "outputs": [],
   "source": [
    "# Запрос\n",
    "text = 'СПб' "
   ]
  },
  {
   "cell_type": "code",
   "execution_count": 74,
   "id": "81bc3f86",
   "metadata": {},
   "outputs": [],
   "source": [
    "# Преобразуем входную строку в вектор \n",
    "questi = pd.Series(clear_text(translit(text)))\n",
    "query_vec = vectorizer_en.transform(questi)"
   ]
  },
  {
   "cell_type": "code",
   "execution_count": 75,
   "id": "23ac6320",
   "metadata": {
    "scrolled": true
   },
   "outputs": [
    {
     "name": "stdout",
     "output_type": "stream",
     "text": [
      "498817\n",
      "spb\n",
      "Saint Petersburg\n",
      "\n",
      "498817\n",
      "спб\n",
      "Saint Petersburg\n",
      "\n",
      "1505429\n",
      "\n",
      "Iskitim\n",
      "\n"
     ]
    }
   ],
   "source": [
    "# Число строк вывода\n",
    "n_strings = 3\n",
    "\n",
    "# вычисляем евклидово расстояние между новой строкой и всеми строками в мешке слов\n",
    "distances = euclidean_distances(query_vec, bow_en)\n",
    "\n",
    "# получаем индекс наиболее близкой строки\n",
    "top_indices = distances.argsort()[0][:n_strings]\n",
    "\n",
    "for tops in range(n_strings):\n",
    "    # Ответ\n",
    "    answ_text = answ[int(top_indices[tops])]\n",
    "    print(answ_text)\n",
    "\n",
    "    # выводим наиболее близкую строку\n",
    "    top_strings = [corpus[i] for i in top_indices]\n",
    "    print(top_strings[tops])\n",
    "\n",
    "    print(df_cities1500.loc[df_cities1500['geonameid']==answ_text, 'name'].to_string(index=False))\n",
    "    print()"
   ]
  },
  {
   "cell_type": "markdown",
   "id": "0c3c6ed8",
   "metadata": {},
   "source": [
    "Создадим функцию для рассчета Евклидова расстояниа с транслитированием"
   ]
  },
  {
   "cell_type": "code",
   "execution_count": 76,
   "id": "b576a6f1",
   "metadata": {},
   "outputs": [],
   "source": [
    "# Функция расчета Евклидова расстояния с переводом в латиннницу\n",
    "\n",
    "def euclid_en(text, num=1):\n",
    "    \n",
    "    # Преобразуем входную строку в вектор \n",
    "    questi = pd.Series(clear_text(translit(text)))\n",
    "    query_vec = vectorizer_en.transform(questi)\n",
    "    \n",
    "    # вычисляем евклидово расстояние между новой строкой и всеми строками в мешке слов\n",
    "    distances = euclidean_distances(query_vec, bow_en)\n",
    "\n",
    "    # получаем индекс наиболее близкой строки\n",
    "    top_indices = distances.argsort()[0][:num]\n",
    "        \n",
    "    # Список вывода \n",
    "    top_strings_list = []\n",
    "\n",
    "    for tops in range(num):\n",
    "        # Ответ\n",
    "        answ_text = answ[int(top_indices[tops])]\n",
    "        answ_str = df_cities1500.loc[df_cities1500['geonameid']==answ_text, 'name'].to_string(index=False)\n",
    "        top_strings_list.append(answ_str)\n",
    "        \n",
    "    return top_strings_list\n"
   ]
  },
  {
   "cell_type": "code",
   "execution_count": 77,
   "id": "9009baa1",
   "metadata": {
    "scrolled": true
   },
   "outputs": [
    {
     "data": {
      "text/plain": [
       "['Saint Petersburg',\n",
       " 'Saint Petersburg',\n",
       " 'Saint Petersburg',\n",
       " 'Saint Petersburg',\n",
       " 'Saint Petersburg']"
      ]
     },
     "execution_count": 77,
     "metadata": {},
     "output_type": "execute_result"
    }
   ],
   "source": [
    "euclid_en('Petersburg', 5)"
   ]
  },
  {
   "cell_type": "markdown",
   "id": "6a9b2d56",
   "metadata": {},
   "source": [
    "### Расстояние Левенштейна для русского текста <a id='3.4'></a>"
   ]
  },
  {
   "cell_type": "code",
   "execution_count": 78,
   "id": "bd90974c",
   "metadata": {},
   "outputs": [],
   "source": [
    "# Запрос\n",
    "text = 'Масква'"
   ]
  },
  {
   "cell_type": "code",
   "execution_count": 79,
   "id": "dff63f6e",
   "metadata": {
    "scrolled": false
   },
   "outputs": [
    {
     "name": "stdout",
     "output_type": "stream",
     "text": [
      "geonameid 524901\n",
      "Значение 100\n",
      "масква\n",
      "Moscow\n",
      "\n",
      "geonameid 524901\n",
      "Значение 83\n",
      "маскав\n",
      "Moscow\n",
      "\n",
      "geonameid 524901\n",
      "Значение 83\n",
      "москва\n",
      "Moscow\n",
      "\n",
      "geonameid 2056881\n",
      "Значение 77\n",
      "маркова\n",
      "Markova\n",
      "\n",
      "geonameid 524901\n",
      "Значение 77\n",
      "москъва\n",
      "Moscow\n",
      "\n"
     ]
    }
   ],
   "source": [
    "# Число строк вывода\n",
    "n_strings = 5\n",
    "\n",
    "# вычисляем расстояние Левенштейна между новой строкой и всеми строками корпусе\n",
    "dist_lev_list = []\n",
    "for word in corpus:\n",
    "    dist_lev = fuzz.token_set_ratio(text, word)\n",
    "    dist_lev_list.append(dist_lev)\n",
    "\n",
    "# Формируем датафрейм с ответаи \n",
    "df_dist_lev = pd.DataFrame({\n",
    "    'geonameid': list(answ),\n",
    "    'alternatename': list(corpus),\n",
    "    'dist_lev': dist_lev_list\n",
    "})\n",
    "\n",
    "# Определим наиболее точные совпадения\n",
    "df_dist_lev = df_dist_lev.sort_values(by='dist_lev', ascending=False)\n",
    "tops_list = list(df_dist_lev['dist_lev'].nlargest(n=n_strings).index)\n",
    "\n",
    "for tops in tops_list:\n",
    "    # Ответ\n",
    "    answ_text = df_dist_lev.loc[tops, 'geonameid']\n",
    "    print('geonameid', answ_text)\n",
    "\n",
    "    # Значение\n",
    "    answ_num = df_dist_lev.loc[tops, 'dist_lev']\n",
    "    print('Значение',  answ_num)\n",
    "    \n",
    "    \n",
    "    # выводим наиболее близкую строку\n",
    "    top_strings = df_dist_lev.loc[tops, 'alternatename']\n",
    "    print(top_strings)\n",
    "\n",
    "    # Значение geoname\n",
    "    print(df_cities1500.loc[df_cities1500['geonameid']==answ_text, 'name'].to_string(index=False))\n",
    "    print()"
   ]
  },
  {
   "cell_type": "markdown",
   "id": "8a23e4e6",
   "metadata": {},
   "source": [
    "Создадим функцию для рассчета расстояниа Левенштейна без транслитирования"
   ]
  },
  {
   "cell_type": "code",
   "execution_count": 80,
   "id": "134b58da",
   "metadata": {},
   "outputs": [],
   "source": [
    "# Функция расчета расстояния Левенштейна\n",
    "\n",
    "def levenshteyn_dist_rus(text, num=1):\n",
    "    \n",
    "    # вычисляем расстояние Левенштейна между новой строкой и всеми строками корпусе\n",
    "    dist_lev_list = []\n",
    "    for word in corpus:\n",
    "        dist_lev = fuzz.token_set_ratio(text, word)\n",
    "        dist_lev_list.append(dist_lev)\n",
    "\n",
    "    # Формируем датафрейм с ответаи    \n",
    "    df_dist_lev = pd.DataFrame({\n",
    "        'geonameid': list(answ),\n",
    "        'alternatename': list(corpus),\n",
    "        'dist_lev': dist_lev_list\n",
    "    })\n",
    "\n",
    "    # Определим наиболее точные совпадения\n",
    "    df_dist_lev = df_dist_lev.sort_values(by='dist_lev', ascending=False)\n",
    "    tops_list = list(df_dist_lev['dist_lev'].nlargest(n=num).index)\n",
    "\n",
    "    # Список вывода \n",
    "    top_strings_list = []\n",
    "    \n",
    "    for tops in tops_list:\n",
    "        \n",
    "        # Ответ\n",
    "        answ_text = df_dist_lev.loc[tops, 'geonameid']\n",
    "\n",
    "        # Значение geoname\n",
    "        answ_str = df_cities1500.loc[df_cities1500['geonameid']==answ_text, 'name'].to_string(index=False)\n",
    "        top_strings_list.append(answ_str)\n",
    "    \n",
    "    return top_strings_list"
   ]
  },
  {
   "cell_type": "code",
   "execution_count": 81,
   "id": "08346a44",
   "metadata": {},
   "outputs": [
    {
     "data": {
      "text/plain": [
       "['Moscow', 'Moscow', 'Moscow', 'Markova', 'Moscow']"
      ]
     },
     "execution_count": 81,
     "metadata": {},
     "output_type": "execute_result"
    }
   ],
   "source": [
    "levenshteyn_dist_rus('Масква', 5)"
   ]
  },
  {
   "cell_type": "markdown",
   "id": "23849838",
   "metadata": {},
   "source": [
    "### Расстояние Левенштейна с переводом в латиницу<a id='3.5'></a>"
   ]
  },
  {
   "cell_type": "code",
   "execution_count": 82,
   "id": "c8a0bb13",
   "metadata": {
    "scrolled": false
   },
   "outputs": [
    {
     "name": "stdout",
     "output_type": "stream",
     "text": [
      "geonameid 524901\n",
      "Значение 100\n",
      "масква\n",
      "Moscow\n",
      "\n",
      "geonameid 524901\n",
      "Значение 83\n",
      "москва\n",
      "Moscow\n",
      "\n",
      "geonameid 524901\n",
      "Значение 83\n",
      "маскав\n",
      "Moscow\n",
      "\n",
      "geonameid 2056881\n",
      "Значение 77\n",
      "маркова\n",
      "Markova\n",
      "\n",
      "geonameid 524901\n",
      "Значение 77\n",
      "москъва\n",
      "Moscow\n",
      "\n"
     ]
    }
   ],
   "source": [
    "# Число строк вывода\n",
    "n_strings = 5\n",
    "\n",
    "# вычисляем расстояние Левенштейна между новой строкой и всеми строками корпусе\n",
    "dist_lev_en_list = []\n",
    "for word in corpus_en:\n",
    "    dist_lev = fuzz.token_set_ratio(translit(text), word)\n",
    "    dist_lev_en_list.append(dist_lev)\n",
    "\n",
    "# Формируем датафрейм с ответаи \n",
    "df_dist_lev_en = pd.DataFrame({\n",
    "    'geonameid': list(answ),\n",
    "    'alternatename': list(corpus),\n",
    "    'dist_lev': dist_lev_en_list\n",
    "})\n",
    "\n",
    "# Определим наиболее точные совпадения\n",
    "df_dist_lev_en = df_dist_lev.sort_values(by='dist_lev', ascending=False)\n",
    "tops_list_en = list(df_dist_lev_en['dist_lev'].nlargest(n=n_strings).index)\n",
    "\n",
    "for tops in tops_list_en:\n",
    "    # Ответ\n",
    "    answ_text = df_dist_lev_en.loc[tops, 'geonameid']\n",
    "    print('geonameid', answ_text)\n",
    "\n",
    "    # Значение\n",
    "    answ_num = df_dist_lev_en.loc[tops, 'dist_lev']\n",
    "    print('Значение',  answ_num)\n",
    "    \n",
    "    \n",
    "    # выводим наиболее близкую строку\n",
    "    top_strings = df_dist_lev_en.loc[tops, 'alternatename']\n",
    "    print(top_strings)\n",
    "\n",
    "    # Значение geoname\n",
    "    print(df_cities1500.loc[df_cities1500['geonameid']==answ_text, 'name'].to_string(index=False))\n",
    "    print()"
   ]
  },
  {
   "cell_type": "markdown",
   "id": "fa15595f",
   "metadata": {},
   "source": [
    "Создадим функцию для рассчета расстояниа Левенштейна с транслитированием"
   ]
  },
  {
   "cell_type": "code",
   "execution_count": 83,
   "id": "d32a025e",
   "metadata": {},
   "outputs": [],
   "source": [
    "# Функция расчета расстояния Левенштейна с переводом в латиннницу\n",
    "\n",
    "def levenshteyn_dist_en(text, num=1):\n",
    "    \n",
    "    # вычисляем расстояние Левенштейна между новой строкой и всеми строками корпусе\n",
    "    dist_lev_en_list = []\n",
    "    for word in corpus_en:\n",
    "        dist_lev = fuzz.token_set_ratio(translit(text), word)\n",
    "        dist_lev_en_list.append(dist_lev)\n",
    "        \n",
    "    # Формируем датафрейм с ответаи    \n",
    "    df_dist_lev_en = pd.DataFrame({\n",
    "        'geonameid': list(answ),\n",
    "        'alternatename': list(corpus),\n",
    "        'dist_lev': dist_lev_en_list\n",
    "    })\n",
    "\n",
    "    # Определим наиболее точные совпадения\n",
    "    df_dist_lev_en = df_dist_lev_en.sort_values(by='dist_lev', ascending=False)\n",
    "    tops_list_en = list(df_dist_lev_en['dist_lev'].nlargest(n=num).index)\n",
    "\n",
    "    # Список вывода \n",
    "    top_strings_list = []\n",
    "    \n",
    "    for tops in tops_list_en:\n",
    "        \n",
    "        # Ответ\n",
    "        answ_text = df_dist_lev_en.loc[tops, 'geonameid']\n",
    "\n",
    "        # Значение geoname\n",
    "        answ_str = df_cities1500.loc[df_cities1500['geonameid']==answ_text, 'name'].to_string(index=False)\n",
    "        top_strings_list.append(answ_str)\n",
    "    \n",
    "    return top_strings_list"
   ]
  },
  {
   "cell_type": "code",
   "execution_count": 84,
   "id": "a779a420",
   "metadata": {},
   "outputs": [
    {
     "data": {
      "text/plain": [
       "['Moscow', 'Moscow', 'Moscow']"
      ]
     },
     "execution_count": 84,
     "metadata": {},
     "output_type": "execute_result"
    }
   ],
   "source": [
    "levenshteyn_dist_en('Масква', 3)"
   ]
  },
  {
   "cell_type": "markdown",
   "id": "64b5580b",
   "metadata": {},
   "source": [
    "**Вывод**\n",
    "\n",
    "В рамках обучения модели были исследованы различные методы. В рамках достижения баланса между скоростью работы модели и ее точностью, акцент сделан на классических моделях – евклидово расстояние, косинусное расстояние и расстояние Левинсона. Для каждого метода было также применено транслитирование.\n",
    "\n",
    "При проведении тестов косинусное расстояние показало низкое качество прогноза, в результате чего данный метод развивать было не целесообразно.\n",
    "\n",
    "Т.о., к проверке приняты два метода (евклидово расстояние и расстояние Левинсона) как с транслитированием, так и без него.\n"
   ]
  },
  {
   "cell_type": "markdown",
   "id": "7cb3fd83",
   "metadata": {},
   "source": [
    "## Проверка точности модели<a id='4'></a>"
   ]
  },
  {
   "cell_type": "code",
   "execution_count": 85,
   "id": "75d658df",
   "metadata": {
    "scrolled": true
   },
   "outputs": [
    {
     "data": {
      "text/html": [
       "<div>\n",
       "<style scoped>\n",
       "    .dataframe tbody tr th:only-of-type {\n",
       "        vertical-align: middle;\n",
       "    }\n",
       "\n",
       "    .dataframe tbody tr th {\n",
       "        vertical-align: top;\n",
       "    }\n",
       "\n",
       "    .dataframe thead th {\n",
       "        text-align: right;\n",
       "    }\n",
       "</style>\n",
       "<table border=\"1\" class=\"dataframe\">\n",
       "  <thead>\n",
       "    <tr style=\"text-align: right;\">\n",
       "      <th></th>\n",
       "      <th>query</th>\n",
       "      <th>name</th>\n",
       "      <th>region</th>\n",
       "      <th>country</th>\n",
       "    </tr>\n",
       "  </thead>\n",
       "  <tbody>\n",
       "    <tr>\n",
       "      <th>0</th>\n",
       "      <td>Смоленск</td>\n",
       "      <td>Smolensk</td>\n",
       "      <td>Smolensk Oblast</td>\n",
       "      <td>Russia</td>\n",
       "    </tr>\n",
       "    <tr>\n",
       "      <th>1</th>\n",
       "      <td>Кемерово</td>\n",
       "      <td>Kemerovo</td>\n",
       "      <td>Kuzbass</td>\n",
       "      <td>Russia</td>\n",
       "    </tr>\n",
       "    <tr>\n",
       "      <th>2</th>\n",
       "      <td>Бишкек</td>\n",
       "      <td>Bishkek</td>\n",
       "      <td>Bishkek</td>\n",
       "      <td>Kyrgyzstan</td>\n",
       "    </tr>\n",
       "  </tbody>\n",
       "</table>\n",
       "</div>"
      ],
      "text/plain": [
       "      query      name           region     country\n",
       "0  Смоленск  Smolensk  Smolensk Oblast      Russia\n",
       "1  Кемерово  Kemerovo          Kuzbass      Russia\n",
       "2    Бишкек   Bishkek          Bishkek  Kyrgyzstan"
      ]
     },
     "execution_count": 85,
     "metadata": {},
     "output_type": "execute_result"
    }
   ],
   "source": [
    "# Чтение тестового файла\n",
    "df_test.head(3)"
   ]
  },
  {
   "cell_type": "markdown",
   "id": "a4797bff",
   "metadata": {},
   "source": [
    "**Формирование ответов для всех способов оценки**"
   ]
  },
  {
   "cell_type": "code",
   "execution_count": 86,
   "id": "785d720e",
   "metadata": {},
   "outputs": [
    {
     "name": "stdout",
     "output_type": "stream",
     "text": [
      "CPU times: total: 0 ns\n",
      "Wall time: 0 ns\n"
     ]
    }
   ],
   "source": [
    "%time\n",
    "df_test['euclid_rus'] = df_test['query'].apply(euclid_rus).apply(lambda x: ''.join(x))\n",
    "df_test['euclid_en'] = df_test['query'].apply(euclid_en).apply(lambda x: ''.join(x))\n",
    "df_test['levenshteyn_rus'] = df_test['query'].apply(levenshteyn_dist_rus).apply(lambda x: ''.join(x))\n",
    "df_test['levenshteyn_en'] = df_test['query'].apply(levenshteyn_dist_en).apply(lambda x: ''.join(x))"
   ]
  },
  {
   "cell_type": "code",
   "execution_count": 87,
   "id": "6605bcdb",
   "metadata": {
    "scrolled": false
   },
   "outputs": [
    {
     "data": {
      "text/html": [
       "<div>\n",
       "<style scoped>\n",
       "    .dataframe tbody tr th:only-of-type {\n",
       "        vertical-align: middle;\n",
       "    }\n",
       "\n",
       "    .dataframe tbody tr th {\n",
       "        vertical-align: top;\n",
       "    }\n",
       "\n",
       "    .dataframe thead th {\n",
       "        text-align: right;\n",
       "    }\n",
       "</style>\n",
       "<table border=\"1\" class=\"dataframe\">\n",
       "  <thead>\n",
       "    <tr style=\"text-align: right;\">\n",
       "      <th></th>\n",
       "      <th>query</th>\n",
       "      <th>name</th>\n",
       "      <th>region</th>\n",
       "      <th>country</th>\n",
       "      <th>euclid_rus</th>\n",
       "      <th>euclid_en</th>\n",
       "      <th>levenshteyn_rus</th>\n",
       "      <th>levenshteyn_en</th>\n",
       "    </tr>\n",
       "  </thead>\n",
       "  <tbody>\n",
       "    <tr>\n",
       "      <th>0</th>\n",
       "      <td>Смоленск</td>\n",
       "      <td>Smolensk</td>\n",
       "      <td>Smolensk Oblast</td>\n",
       "      <td>Russia</td>\n",
       "      <td>Smolensk</td>\n",
       "      <td>Smolensk</td>\n",
       "      <td>Smolensk</td>\n",
       "      <td>Smolensk</td>\n",
       "    </tr>\n",
       "    <tr>\n",
       "      <th>1</th>\n",
       "      <td>Кемерово</td>\n",
       "      <td>Kemerovo</td>\n",
       "      <td>Kuzbass</td>\n",
       "      <td>Russia</td>\n",
       "      <td>Kemerovo</td>\n",
       "      <td>Kemerovo</td>\n",
       "      <td>Kemerovo</td>\n",
       "      <td>Kemerovo</td>\n",
       "    </tr>\n",
       "    <tr>\n",
       "      <th>2</th>\n",
       "      <td>Бишкек</td>\n",
       "      <td>Bishkek</td>\n",
       "      <td>Bishkek</td>\n",
       "      <td>Kyrgyzstan</td>\n",
       "      <td>Bishkek</td>\n",
       "      <td>Bishkek</td>\n",
       "      <td>Bishkek</td>\n",
       "      <td>Bishkek</td>\n",
       "    </tr>\n",
       "    <tr>\n",
       "      <th>3</th>\n",
       "      <td>Москва</td>\n",
       "      <td>Moscow</td>\n",
       "      <td>Moscow</td>\n",
       "      <td>Russia</td>\n",
       "      <td>Moscow</td>\n",
       "      <td>Moscow</td>\n",
       "      <td>Moscow</td>\n",
       "      <td>Moscow</td>\n",
       "    </tr>\n",
       "    <tr>\n",
       "      <th>4</th>\n",
       "      <td>Алматы</td>\n",
       "      <td>Almaty</td>\n",
       "      <td>Almaty</td>\n",
       "      <td>Kazakhstan</td>\n",
       "      <td>Almaty</td>\n",
       "      <td>Almaty</td>\n",
       "      <td>Almaty</td>\n",
       "      <td>Almaty</td>\n",
       "    </tr>\n",
       "  </tbody>\n",
       "</table>\n",
       "</div>"
      ],
      "text/plain": [
       "      query      name           region     country euclid_rus euclid_en  \\\n",
       "0  Смоленск  Smolensk  Smolensk Oblast      Russia   Smolensk  Smolensk   \n",
       "1  Кемерово  Kemerovo          Kuzbass      Russia   Kemerovo  Kemerovo   \n",
       "2    Бишкек   Bishkek          Bishkek  Kyrgyzstan    Bishkek   Bishkek   \n",
       "3    Москва    Moscow           Moscow      Russia     Moscow    Moscow   \n",
       "4    Алматы    Almaty           Almaty  Kazakhstan     Almaty    Almaty   \n",
       "\n",
       "  levenshteyn_rus levenshteyn_en  \n",
       "0        Smolensk       Smolensk  \n",
       "1        Kemerovo       Kemerovo  \n",
       "2         Bishkek        Bishkek  \n",
       "3          Moscow         Moscow  \n",
       "4          Almaty         Almaty  "
      ]
     },
     "execution_count": 87,
     "metadata": {},
     "output_type": "execute_result"
    }
   ],
   "source": [
    "df_test.head()"
   ]
  },
  {
   "cell_type": "code",
   "execution_count": 88,
   "id": "cb48946b",
   "metadata": {},
   "outputs": [
    {
     "name": "stdout",
     "output_type": "stream",
     "text": [
      "Для Евклидова расстояния на русском языке accuracy составила 0.9294\n",
      "Для Евклидова расстояния с переводом на английский язык accuracy составила 0.9206\n",
      "Для расстояния Левенштейна на русском языке accuracy составила 0.9088\n",
      "Для расстояния Левенштейна с переводом на английский язык accuracy составила 0.9029\n"
     ]
    }
   ],
   "source": [
    "y_true = df_test['name']\n",
    "y_pred_ev_rus = df_test['euclid_rus']\n",
    "y_pred_ev_en = df_test['euclid_en']\n",
    "y_pred_lev_rus = df_test['levenshteyn_rus']\n",
    "y_pred_lev_en = df_test['levenshteyn_en']\n",
    "\n",
    "accuracy_euclid_rus = accuracy_score(y_true, y_pred_ev_rus)\n",
    "accuracy_euclid_en = accuracy_score(y_true, y_pred_ev_en)\n",
    "accuracy_levenshteyn_rus = accuracy_score(y_true, y_pred_lev_rus)\n",
    "accuracy_levenshteyn_en = accuracy_score(y_true, y_pred_lev_en)\n",
    "\n",
    "print(f'Для Евклидова расстояния на русском языке accuracy составила {accuracy_euclid_rus:.4f}')\n",
    "print(f'Для Евклидова расстояния с переводом на английский язык accuracy составила {accuracy_euclid_en:.4f}')\n",
    "print(f'Для расстояния Левенштейна на русском языке accuracy составила {accuracy_levenshteyn_rus:.4f}')\n",
    "print(f'Для расстояния Левенштейна с переводом на английский язык accuracy составила {accuracy_levenshteyn_en:.4f}')"
   ]
  },
  {
   "cell_type": "code",
   "execution_count": 89,
   "id": "ae2a74f2",
   "metadata": {
    "scrolled": true
   },
   "outputs": [
    {
     "data": {
      "text/html": [
       "<div>\n",
       "<style scoped>\n",
       "    .dataframe tbody tr th:only-of-type {\n",
       "        vertical-align: middle;\n",
       "    }\n",
       "\n",
       "    .dataframe tbody tr th {\n",
       "        vertical-align: top;\n",
       "    }\n",
       "\n",
       "    .dataframe thead th {\n",
       "        text-align: right;\n",
       "    }\n",
       "</style>\n",
       "<table border=\"1\" class=\"dataframe\">\n",
       "  <thead>\n",
       "    <tr style=\"text-align: right;\">\n",
       "      <th></th>\n",
       "      <th>query</th>\n",
       "      <th>name</th>\n",
       "      <th>region</th>\n",
       "      <th>country</th>\n",
       "      <th>euclid_rus</th>\n",
       "      <th>euclid_en</th>\n",
       "      <th>levenshteyn_rus</th>\n",
       "      <th>levenshteyn_en</th>\n",
       "    </tr>\n",
       "  </thead>\n",
       "  <tbody>\n",
       "    <tr>\n",
       "      <th>10</th>\n",
       "      <td>Минск</td>\n",
       "      <td>Minsk City</td>\n",
       "      <td>Minsk City</td>\n",
       "      <td>Belarus</td>\n",
       "      <td>Minsk</td>\n",
       "      <td>Minsk</td>\n",
       "      <td>Minsk</td>\n",
       "      <td>Minsk</td>\n",
       "    </tr>\n",
       "    <tr>\n",
       "      <th>15</th>\n",
       "      <td>Екб</td>\n",
       "      <td>Yekaterinburg</td>\n",
       "      <td>Sverdlovsk Oblast</td>\n",
       "      <td>Russia</td>\n",
       "      <td>Serdobsk</td>\n",
       "      <td>Ekibastuz</td>\n",
       "      <td>Oral</td>\n",
       "      <td>Ekibastuz</td>\n",
       "    </tr>\n",
       "    <tr>\n",
       "      <th>17</th>\n",
       "      <td>Н.Новгород</td>\n",
       "      <td>Nizhniy Novgorod</td>\n",
       "      <td>Nizhny Novgorod Oblast</td>\n",
       "      <td>Russia</td>\n",
       "      <td>Velikiy Novgorod</td>\n",
       "      <td>Velikiy Novgorod</td>\n",
       "      <td>Velikiy Novgorod</td>\n",
       "      <td>Velikiy Novgorod</td>\n",
       "    </tr>\n",
       "    <tr>\n",
       "      <th>31</th>\n",
       "      <td>Остана</td>\n",
       "      <td>Astana</td>\n",
       "      <td>Astana</td>\n",
       "      <td>Kazakhstan</td>\n",
       "      <td>Kostanay</td>\n",
       "      <td>Kostanay</td>\n",
       "      <td>Kostanay</td>\n",
       "      <td>Kostanay</td>\n",
       "    </tr>\n",
       "    <tr>\n",
       "      <th>44</th>\n",
       "      <td>Островцы</td>\n",
       "      <td>Ostrovtsy</td>\n",
       "      <td>Moscow Oblast</td>\n",
       "      <td>Russia</td>\n",
       "      <td>Ostrov</td>\n",
       "      <td>Ostrov</td>\n",
       "      <td>Ostrov</td>\n",
       "      <td>Ostrov</td>\n",
       "    </tr>\n",
       "    <tr>\n",
       "      <th>63</th>\n",
       "      <td>Ираславль</td>\n",
       "      <td>Yaroslavl</td>\n",
       "      <td>Yaroslavl Oblast</td>\n",
       "      <td>Russia</td>\n",
       "      <td>Roslavl’</td>\n",
       "      <td>Roslavl’</td>\n",
       "      <td>Roslavl’</td>\n",
       "      <td>Yaroslavl</td>\n",
       "    </tr>\n",
       "    <tr>\n",
       "      <th>67</th>\n",
       "      <td>Влодевасток</td>\n",
       "      <td>Vladivostok</td>\n",
       "      <td>Primorye</td>\n",
       "      <td>Russia</td>\n",
       "      <td>Vladivostok</td>\n",
       "      <td>Volgodonsk</td>\n",
       "      <td>Vladivostok</td>\n",
       "      <td>Vladivostok</td>\n",
       "    </tr>\n",
       "    <tr>\n",
       "      <th>75</th>\n",
       "      <td>Аксай</td>\n",
       "      <td>Aksay</td>\n",
       "      <td>Rostov</td>\n",
       "      <td>Russia</td>\n",
       "      <td>Aqsay</td>\n",
       "      <td>Aqsay</td>\n",
       "      <td>Aksay</td>\n",
       "      <td>Aksay</td>\n",
       "    </tr>\n",
       "    <tr>\n",
       "      <th>85</th>\n",
       "      <td>Каленинград</td>\n",
       "      <td>Kaliningrad</td>\n",
       "      <td>Kaliningrad Oblast</td>\n",
       "      <td>Russia</td>\n",
       "      <td>Kaliningrad</td>\n",
       "      <td>Korolev</td>\n",
       "      <td>Kaliningrad</td>\n",
       "      <td>Kaliningrad</td>\n",
       "    </tr>\n",
       "    <tr>\n",
       "      <th>86</th>\n",
       "      <td>Калининград</td>\n",
       "      <td>Kaliningrad</td>\n",
       "      <td>Kaliningrad Oblast</td>\n",
       "      <td>Russia</td>\n",
       "      <td>Kaliningrad</td>\n",
       "      <td>Korolev</td>\n",
       "      <td>Kaliningrad</td>\n",
       "      <td>Kaliningrad</td>\n",
       "    </tr>\n",
       "    <tr>\n",
       "      <th>91</th>\n",
       "      <td>Сербия</td>\n",
       "      <td>Serbia</td>\n",
       "      <td>Serbia</td>\n",
       "      <td>Serbia</td>\n",
       "      <td>Michurinsk</td>\n",
       "      <td>Shuya</td>\n",
       "      <td>Serik</td>\n",
       "      <td>Erbaa</td>\n",
       "    </tr>\n",
       "    <tr>\n",
       "      <th>96</th>\n",
       "      <td>Армения</td>\n",
       "      <td>Armenia</td>\n",
       "      <td>Armenia</td>\n",
       "      <td>Armenia</td>\n",
       "      <td>Alanya</td>\n",
       "      <td>Astana</td>\n",
       "      <td>Ramenki</td>\n",
       "      <td>Kamensk-Shakhtinsky</td>\n",
       "    </tr>\n",
       "    <tr>\n",
       "      <th>99</th>\n",
       "      <td>Атырау</td>\n",
       "      <td>Atyraū</td>\n",
       "      <td>Atyraū</td>\n",
       "      <td>Kazakhstan</td>\n",
       "      <td>Atyrau</td>\n",
       "      <td>Atyrau</td>\n",
       "      <td>Atyrau</td>\n",
       "      <td>Atyrau</td>\n",
       "    </tr>\n",
       "    <tr>\n",
       "      <th>119</th>\n",
       "      <td>Джанкой</td>\n",
       "      <td>Zhanibek</td>\n",
       "      <td>Batys Qazaqstan</td>\n",
       "      <td>Kazakhstan</td>\n",
       "      <td>Dankov</td>\n",
       "      <td>Dankov</td>\n",
       "      <td>Dankov</td>\n",
       "      <td>Dankov</td>\n",
       "    </tr>\n",
       "    <tr>\n",
       "      <th>126</th>\n",
       "      <td>Белокуриха</td>\n",
       "      <td>Belokurikha</td>\n",
       "      <td>Altai Krai</td>\n",
       "      <td>Russia</td>\n",
       "      <td>Gudermes</td>\n",
       "      <td>Şanlıurfa</td>\n",
       "      <td>Gudermes</td>\n",
       "      <td>Gudermes</td>\n",
       "    </tr>\n",
       "    <tr>\n",
       "      <th>128</th>\n",
       "      <td>Павлодар</td>\n",
       "      <td>Pavlodar Region</td>\n",
       "      <td>Pavlodar Region</td>\n",
       "      <td>Kazakhstan</td>\n",
       "      <td>Pavlodar</td>\n",
       "      <td>Pavlodar</td>\n",
       "      <td>Pavlodar</td>\n",
       "      <td>Pavlodar</td>\n",
       "    </tr>\n",
       "    <tr>\n",
       "      <th>134</th>\n",
       "      <td>Дзержинский</td>\n",
       "      <td>Dzerzhinsky</td>\n",
       "      <td>Moscow Oblast</td>\n",
       "      <td>Russia</td>\n",
       "      <td>Dzerzhinsky</td>\n",
       "      <td>Nar'yan-Mar</td>\n",
       "      <td>Dzerzhinsky</td>\n",
       "      <td>Dzerzhinskiy</td>\n",
       "    </tr>\n",
       "    <tr>\n",
       "      <th>138</th>\n",
       "      <td>Касумкент</td>\n",
       "      <td>Kasumkent</td>\n",
       "      <td>Dagestan</td>\n",
       "      <td>Russia</td>\n",
       "      <td>Kant</td>\n",
       "      <td>Shymkent</td>\n",
       "      <td>Kamen’-na-Obi</td>\n",
       "      <td>Shymkent</td>\n",
       "    </tr>\n",
       "    <tr>\n",
       "      <th>155</th>\n",
       "      <td>Дзержинск</td>\n",
       "      <td>Dzerzhinsk</td>\n",
       "      <td>Nizhny Novgorod Oblast</td>\n",
       "      <td>Russia</td>\n",
       "      <td>Dzerzhinsk</td>\n",
       "      <td>Dzyarzhynsk</td>\n",
       "      <td>Dzerzhinsk</td>\n",
       "      <td>Dzerzhinsk</td>\n",
       "    </tr>\n",
       "    <tr>\n",
       "      <th>166</th>\n",
       "      <td>Новая Адыгея</td>\n",
       "      <td>Novaya Adygeya</td>\n",
       "      <td>Adygeya Republic</td>\n",
       "      <td>Russia</td>\n",
       "      <td>Novaya Derevnya</td>\n",
       "      <td>Novaya Derevnya</td>\n",
       "      <td>Novaya Derevnya</td>\n",
       "      <td>Novaya Derevnya</td>\n",
       "    </tr>\n",
       "    <tr>\n",
       "      <th>237</th>\n",
       "      <td>Виловатово</td>\n",
       "      <td>Vilovatovo</td>\n",
       "      <td>Mariy-El Republic</td>\n",
       "      <td>Russia</td>\n",
       "      <td>Shilovo</td>\n",
       "      <td>Ivanovo</td>\n",
       "      <td>Ivanovo</td>\n",
       "      <td>Ipatovo</td>\n",
       "    </tr>\n",
       "    <tr>\n",
       "      <th>241</th>\n",
       "      <td>Октябрьский</td>\n",
       "      <td>Oktyabr’skiy</td>\n",
       "      <td>Moscow Oblast</td>\n",
       "      <td>Russia</td>\n",
       "      <td>Oktyabrsky</td>\n",
       "      <td>Oktyabrsky</td>\n",
       "      <td>Oktyabrsky</td>\n",
       "      <td>Oktyabrsky</td>\n",
       "    </tr>\n",
       "    <tr>\n",
       "      <th>304</th>\n",
       "      <td>Воскресенск</td>\n",
       "      <td>Voskresensk</td>\n",
       "      <td>Moscow Oblast</td>\n",
       "      <td>Russia</td>\n",
       "      <td>Voskresensk</td>\n",
       "      <td>Istra</td>\n",
       "      <td>Voskresensk</td>\n",
       "      <td>Voskresensk</td>\n",
       "    </tr>\n",
       "    <tr>\n",
       "      <th>313</th>\n",
       "      <td>Дрожжино</td>\n",
       "      <td>Drozhzhino</td>\n",
       "      <td>Moscow Oblast</td>\n",
       "      <td>Russia</td>\n",
       "      <td>Mednogorsk</td>\n",
       "      <td>Horad Zhodzina</td>\n",
       "      <td>Strogino</td>\n",
       "      <td>Nartkala</td>\n",
       "    </tr>\n",
       "    <tr>\n",
       "      <th>318</th>\n",
       "      <td>Крекшино</td>\n",
       "      <td>Krekshino</td>\n",
       "      <td>Moscow Oblast</td>\n",
       "      <td>Russia</td>\n",
       "      <td>Shchëkino</td>\n",
       "      <td>Asino</td>\n",
       "      <td>Korkino</td>\n",
       "      <td>Aleksin</td>\n",
       "    </tr>\n",
       "    <tr>\n",
       "      <th>319</th>\n",
       "      <td>Кокошкино</td>\n",
       "      <td>Kokoshkino</td>\n",
       "      <td>Moscow</td>\n",
       "      <td>Russia</td>\n",
       "      <td>Korkino</td>\n",
       "      <td>Korkino</td>\n",
       "      <td>Korkino</td>\n",
       "      <td>Nartkala</td>\n",
       "    </tr>\n",
       "    <tr>\n",
       "      <th>341</th>\n",
       "      <td>Тамань</td>\n",
       "      <td>Taman’</td>\n",
       "      <td>Krasnodar Krai</td>\n",
       "      <td>Russia</td>\n",
       "      <td>Usman’</td>\n",
       "      <td>Kaman</td>\n",
       "      <td>Kaman</td>\n",
       "      <td>Kaman</td>\n",
       "    </tr>\n",
       "  </tbody>\n",
       "</table>\n",
       "</div>"
      ],
      "text/plain": [
       "            query              name                  region     country  \\\n",
       "10          Минск        Minsk City              Minsk City     Belarus   \n",
       "15            Екб     Yekaterinburg       Sverdlovsk Oblast      Russia   \n",
       "17     Н.Новгород  Nizhniy Novgorod  Nizhny Novgorod Oblast      Russia   \n",
       "31         Остана            Astana                  Astana  Kazakhstan   \n",
       "44       Островцы         Ostrovtsy           Moscow Oblast      Russia   \n",
       "63      Ираславль         Yaroslavl        Yaroslavl Oblast      Russia   \n",
       "67    Влодевасток       Vladivostok                Primorye      Russia   \n",
       "75          Аксай             Aksay                  Rostov      Russia   \n",
       "85    Каленинград       Kaliningrad      Kaliningrad Oblast      Russia   \n",
       "86    Калининград       Kaliningrad      Kaliningrad Oblast      Russia   \n",
       "91         Сербия            Serbia                  Serbia      Serbia   \n",
       "96        Армения           Armenia                 Armenia     Armenia   \n",
       "99         Атырау            Atyraū                  Atyraū  Kazakhstan   \n",
       "119       Джанкой          Zhanibek         Batys Qazaqstan  Kazakhstan   \n",
       "126    Белокуриха       Belokurikha              Altai Krai      Russia   \n",
       "128      Павлодар   Pavlodar Region         Pavlodar Region  Kazakhstan   \n",
       "134   Дзержинский       Dzerzhinsky           Moscow Oblast      Russia   \n",
       "138     Касумкент         Kasumkent                Dagestan      Russia   \n",
       "155     Дзержинск        Dzerzhinsk  Nizhny Novgorod Oblast      Russia   \n",
       "166  Новая Адыгея    Novaya Adygeya        Adygeya Republic      Russia   \n",
       "237    Виловатово        Vilovatovo       Mariy-El Republic      Russia   \n",
       "241   Октябрьский      Oktyabr’skiy           Moscow Oblast      Russia   \n",
       "304   Воскресенск       Voskresensk           Moscow Oblast      Russia   \n",
       "313      Дрожжино        Drozhzhino           Moscow Oblast      Russia   \n",
       "318      Крекшино         Krekshino           Moscow Oblast      Russia   \n",
       "319     Кокошкино        Kokoshkino                  Moscow      Russia   \n",
       "341        Тамань            Taman’          Krasnodar Krai      Russia   \n",
       "\n",
       "           euclid_rus         euclid_en   levenshteyn_rus       levenshteyn_en  \n",
       "10              Minsk             Minsk             Minsk                Minsk  \n",
       "15           Serdobsk         Ekibastuz              Oral            Ekibastuz  \n",
       "17   Velikiy Novgorod  Velikiy Novgorod  Velikiy Novgorod     Velikiy Novgorod  \n",
       "31           Kostanay          Kostanay          Kostanay             Kostanay  \n",
       "44             Ostrov            Ostrov            Ostrov               Ostrov  \n",
       "63           Roslavl’          Roslavl’          Roslavl’            Yaroslavl  \n",
       "67        Vladivostok        Volgodonsk       Vladivostok          Vladivostok  \n",
       "75              Aqsay             Aqsay             Aksay                Aksay  \n",
       "85        Kaliningrad           Korolev       Kaliningrad          Kaliningrad  \n",
       "86        Kaliningrad           Korolev       Kaliningrad          Kaliningrad  \n",
       "91         Michurinsk             Shuya             Serik                Erbaa  \n",
       "96             Alanya            Astana           Ramenki  Kamensk-Shakhtinsky  \n",
       "99             Atyrau            Atyrau            Atyrau               Atyrau  \n",
       "119            Dankov            Dankov            Dankov               Dankov  \n",
       "126          Gudermes         Şanlıurfa          Gudermes             Gudermes  \n",
       "128          Pavlodar          Pavlodar          Pavlodar             Pavlodar  \n",
       "134       Dzerzhinsky       Nar'yan-Mar       Dzerzhinsky         Dzerzhinskiy  \n",
       "138              Kant          Shymkent     Kamen’-na-Obi             Shymkent  \n",
       "155        Dzerzhinsk       Dzyarzhynsk        Dzerzhinsk           Dzerzhinsk  \n",
       "166   Novaya Derevnya   Novaya Derevnya   Novaya Derevnya      Novaya Derevnya  \n",
       "237           Shilovo           Ivanovo           Ivanovo              Ipatovo  \n",
       "241        Oktyabrsky        Oktyabrsky        Oktyabrsky           Oktyabrsky  \n",
       "304       Voskresensk             Istra       Voskresensk          Voskresensk  \n",
       "313        Mednogorsk    Horad Zhodzina          Strogino             Nartkala  \n",
       "318         Shchëkino             Asino           Korkino              Aleksin  \n",
       "319           Korkino           Korkino           Korkino             Nartkala  \n",
       "341            Usman’             Kaman             Kaman                Kaman  "
      ]
     },
     "execution_count": 89,
     "metadata": {},
     "output_type": "execute_result"
    }
   ],
   "source": [
    "# Таблица ошибок\n",
    "df_test.loc[df_test['name']!=df_test['euclid_en']]"
   ]
  },
  {
   "cell_type": "markdown",
   "id": "de0239b1",
   "metadata": {},
   "source": [
    "**Вывод**\n",
    "\n",
    "Скорость расчета расстояния Левенштейна крайне низкая, при сравнительно низкой точности (`accuracy` не превысила `0,9`).\n",
    "\n",
    "Самая высокая точность достигается на Евклидовом расстоянии без применения транслитирования (`accuracy` составила `0.9235`). \n",
    "\n",
    "Однако, допуская возможность ввода названий в латинице, выбран метод с тарнслитированием в английский язык, на котором `accuracy` достигает значения `0.9206`.\n",
    "\n",
    "Таблица ошибок показала класс ошибок, когда пользователь вводит вместо города название страны. Для обработки такого рода ошибок возможно расширение функционала алгоритма в будущем.\n"
   ]
  },
  {
   "cell_type": "markdown",
   "id": "a9bc8f3e",
   "metadata": {},
   "source": [
    "## Формирование словаря ответов<a id='5'></a>"
   ]
  },
  {
   "cell_type": "markdown",
   "id": "b5dc54f7",
   "metadata": {},
   "source": [
    "**Описание**\n",
    "\n",
    "Для организации работы на уже обученной модели машинного обучения предложен алгоритм формирования словаря ответов. \n",
    "\n",
    "Для запуска работы алгоритма необходимо векторизировать обучающий корпус наименований и запустить функцию. \n",
    "\n",
    "При вводе наименования можно вводить не только наименование, но и количество строк вывода (по умолчанию выводится одна строка).\n",
    "\n",
    "В результате работы функции выводится список словарей с указанием `geonameid`, наименования, `города` / `региона` / `страны` и значения `косинусного расстояния` между введенным и полученным значением.\n"
   ]
  },
  {
   "cell_type": "markdown",
   "id": "1bd30860",
   "metadata": {},
   "source": [
    "**Расчет косинусоного расстояния**"
   ]
  },
  {
   "cell_type": "code",
   "execution_count": 90,
   "id": "20e54f21",
   "metadata": {},
   "outputs": [],
   "source": [
    "# Функция расчета косинусного расстояния\n",
    "def cos_dist(questi, word):\n",
    "    query_vec = vectorizer_c.transform([clear_text(translit(questi))]).toarray()[0]\n",
    "    word_vect = vectorizer_c.transform([clear_text(word)]).toarray()[0]\n",
    "    distances = 1-distance.cosine(word_vect, query_vec)\n",
    "    return distances"
   ]
  },
  {
   "cell_type": "markdown",
   "id": "3cde6a97",
   "metadata": {},
   "source": [
    "**База для формирования ответов**"
   ]
  },
  {
   "cell_type": "code",
   "execution_count": 91,
   "id": "834a229d",
   "metadata": {},
   "outputs": [],
   "source": [
    "# создаем мешок слов\n",
    "vectorizer_en = CountVectorizer(analyzer='char_wb', ngram_range=(2, 2))\n",
    "bow_en = vectorizer_en.fit_transform(corpus_en)"
   ]
  },
  {
   "cell_type": "code",
   "execution_count": 92,
   "id": "4b67106e",
   "metadata": {
    "scrolled": false
   },
   "outputs": [
    {
     "data": {
      "text/plain": [
       "(21232, 889)"
      ]
     },
     "execution_count": 92,
     "metadata": {},
     "output_type": "execute_result"
    }
   ],
   "source": [
    "bow_en.shape"
   ]
  },
  {
   "cell_type": "code",
   "execution_count": 93,
   "id": "efc32db8",
   "metadata": {},
   "outputs": [],
   "source": [
    "# Запрос\n",
    "text = 'Екатеринбург' "
   ]
  },
  {
   "cell_type": "markdown",
   "id": "0c0e193b",
   "metadata": {},
   "source": [
    "**Формирование ответов**"
   ]
  },
  {
   "cell_type": "code",
   "execution_count": 94,
   "id": "6b5e1fc7",
   "metadata": {},
   "outputs": [],
   "source": [
    "# Преобразуем входную строку в вектор \n",
    "questi = pd.Series(clear_text(translit(text)))\n",
    "query_vec = vectorizer_en.transform(questi)"
   ]
  },
  {
   "cell_type": "code",
   "execution_count": 95,
   "id": "ecd0bff9",
   "metadata": {
    "scrolled": false
   },
   "outputs": [],
   "source": [
    "# Создание словаря ответов\n",
    "# Число строк вывода\n",
    "n_strings = 5\n",
    "\n",
    "# вычисляем евклидово расстояние между новой строкой и всеми строками в мешке слов\n",
    "distances = euclidean_distances(query_vec, bow_en)\n",
    "\n",
    "# получаем индекс наиболее близкой строки\n",
    "top_indices = distances.argsort()[0][:n_strings]\n",
    "\n",
    "geonameid_list = []\n",
    "name_list = []\n",
    "region_list =[]\n",
    "country_list = []\n",
    "cosine_list =[]\n",
    "\n",
    "for tops in range(n_strings):\n",
    "    # Ответ geonameid\n",
    "    answ_geonameid = answ[int(top_indices[tops])]\n",
    "    geonameid_list.append(answ_geonameid)\n",
    "    \n",
    "    # Ответ name\n",
    "    answ_name = df_cities1500.loc[df_cities1500['geonameid']==answ_geonameid, 'name'].to_string(index=False)\n",
    "    name_list.append(answ_name)\n",
    "    \n",
    "    # Ответ регион\n",
    "    cc = df_cities1500.loc[df_cities1500['geonameid']==answ_geonameid, 'country code'].to_string(index=False)\n",
    "    rc = df_cities1500.loc[df_cities1500['geonameid']==answ_geonameid, 'admin1 code'].to_string(index=False)\n",
    "    ar = cc +'.'+ rc\n",
    "    answ_region = df_admin1CodesASCII.loc[df_admin1CodesASCII['code']==ar, 'name ascii'].to_string(index=False)\n",
    "    region_list.append(answ_region)\n",
    "    \n",
    "    # Ответ страна\n",
    "    answ_country = country_name[df_cities1500.loc[df_cities1500['geonameid']==answ_geonameid, 'country code'].\n",
    "                                to_string(index=False)]\n",
    "    country_list.append(answ_country)\n",
    "    \n",
    "    # Ответ cosine similarity\n",
    "    cosine_similarity = cos_dist(text, corpus_en[top_indices[tops]])\n",
    "    cosine_list.append(cosine_similarity)\n",
    "\n",
    "df_answ = pd.DataFrame({\n",
    "    'geonameid': geonameid_list,\n",
    "    'name': name_list,\n",
    "    'region': region_list,\n",
    "    'country': country_list,\n",
    "    'cosine': cosine_list\n",
    "})\n",
    "answ_dict = df_answ.to_dict(orient='records')"
   ]
  },
  {
   "cell_type": "code",
   "execution_count": 96,
   "id": "0a81e2fb",
   "metadata": {
    "scrolled": false
   },
   "outputs": [
    {
     "data": {
      "text/plain": [
       "[{'geonameid': 1486209,\n",
       "  'name': 'Yekaterinburg',\n",
       "  'region': 'Sverdlovsk Oblast',\n",
       "  'country': 'Russia',\n",
       "  'cosine': 1.0},\n",
       " {'geonameid': 1486209,\n",
       "  'name': 'Yekaterinburg',\n",
       "  'region': 'Sverdlovsk Oblast',\n",
       "  'country': 'Russia',\n",
       "  'cosine': 1.0},\n",
       " {'geonameid': 1486209,\n",
       "  'name': 'Yekaterinburg',\n",
       "  'region': 'Sverdlovsk Oblast',\n",
       "  'country': 'Russia',\n",
       "  'cosine': 0.9252126882606606},\n",
       " {'geonameid': 1486209,\n",
       "  'name': 'Yekaterinburg',\n",
       "  'region': 'Sverdlovsk Oblast',\n",
       "  'country': 'Russia',\n",
       "  'cosine': 0.9252126882606606},\n",
       " {'geonameid': 1486209,\n",
       "  'name': 'Yekaterinburg',\n",
       "  'region': 'Sverdlovsk Oblast',\n",
       "  'country': 'Russia',\n",
       "  'cosine': 0.9252126882606606}]"
      ]
     },
     "execution_count": 96,
     "metadata": {},
     "output_type": "execute_result"
    }
   ],
   "source": [
    "answ_dict"
   ]
  },
  {
   "cell_type": "markdown",
   "id": "e8a3fd0f",
   "metadata": {},
   "source": [
    "**Функция формирования ответов**"
   ]
  },
  {
   "cell_type": "code",
   "execution_count": 97,
   "id": "b55ac462",
   "metadata": {},
   "outputs": [],
   "source": [
    "# Функция для формирования ответов\n",
    "\n",
    "def answ_dict(text, num=1):\n",
    "\n",
    "    # Преобразуем входную строку в вектор \n",
    "    questi = pd.Series(clear_text(translit(text)))\n",
    "    query_vec = vectorizer_en.transform(questi)\n",
    "\n",
    "    # вычисляем евклидово расстояние между новой строкой и всеми строками в мешке слов\n",
    "    distances = euclidean_distances(query_vec, bow_en)\n",
    "\n",
    "    # получаем индекс наиболее близкой строки\n",
    "    top_indices = distances.argsort()[0][:num]\n",
    "\n",
    "    # Создаем списки данных\n",
    "    geonameid_list = []\n",
    "    name_list = []\n",
    "    region_list =[]\n",
    "    country_list = []\n",
    "    cosine_list =[]\n",
    "\n",
    "    for tops in range(num):\n",
    "        # Ответ geonameid\n",
    "        answ_geonameid = answ[int(top_indices[tops])]\n",
    "        geonameid_list.append(answ_geonameid)\n",
    "\n",
    "        # Ответ name\n",
    "        answ_name = df_cities1500.loc[df_cities1500['geonameid']==answ_geonameid, 'name'].to_string(index=False)\n",
    "        name_list.append(answ_name)\n",
    "\n",
    "        # Ответ регион\n",
    "        cc = df_cities1500.loc[df_cities1500['geonameid']==answ_geonameid, 'country code'].to_string(index=False)\n",
    "        rc = df_cities1500.loc[df_cities1500['geonameid']==answ_geonameid, 'admin1 code'].to_string(index=False)\n",
    "        ar = cc +'.'+ rc\n",
    "        answ_region = df_admin1CodesASCII.loc[df_admin1CodesASCII['code']==ar, 'name ascii'].to_string(index=False)\n",
    "        region_list.append(answ_region)\n",
    "\n",
    "        # Ответ страна\n",
    "        answ_country = country_name[df_cities1500.loc[df_cities1500['geonameid']==answ_geonameid, 'country code'].\n",
    "                                    to_string(index=False)]\n",
    "        country_list.append(answ_country)\n",
    "\n",
    "        # Ответ cosine similarity\n",
    "        cosine_similarity = cos_dist(text, corpus_en[top_indices[tops]])\n",
    "        cosine_list.append(cosine_similarity)\n",
    "\n",
    "    df_answ = pd.DataFrame({\n",
    "        'geonameid': geonameid_list,\n",
    "        'name': name_list,\n",
    "        'region': region_list,\n",
    "        'country': country_list,\n",
    "        'cosine': cosine_list\n",
    "    })\n",
    "    return df_answ.to_dict(orient='records')"
   ]
  },
  {
   "cell_type": "code",
   "execution_count": 98,
   "id": "2c828ad8",
   "metadata": {
    "scrolled": false
   },
   "outputs": [
    {
     "data": {
      "text/plain": [
       "[{'geonameid': 1486209,\n",
       "  'name': 'Yekaterinburg',\n",
       "  'region': 'Sverdlovsk Oblast',\n",
       "  'country': 'Russia',\n",
       "  'cosine': 1.0},\n",
       " {'geonameid': 1486209,\n",
       "  'name': 'Yekaterinburg',\n",
       "  'region': 'Sverdlovsk Oblast',\n",
       "  'country': 'Russia',\n",
       "  'cosine': 1.0},\n",
       " {'geonameid': 1486209,\n",
       "  'name': 'Yekaterinburg',\n",
       "  'region': 'Sverdlovsk Oblast',\n",
       "  'country': 'Russia',\n",
       "  'cosine': 0.9252126882606606},\n",
       " {'geonameid': 1486209,\n",
       "  'name': 'Yekaterinburg',\n",
       "  'region': 'Sverdlovsk Oblast',\n",
       "  'country': 'Russia',\n",
       "  'cosine': 0.9252126882606606},\n",
       " {'geonameid': 1486209,\n",
       "  'name': 'Yekaterinburg',\n",
       "  'region': 'Sverdlovsk Oblast',\n",
       "  'country': 'Russia',\n",
       "  'cosine': 0.9252126882606606}]"
      ]
     },
     "execution_count": 98,
     "metadata": {},
     "output_type": "execute_result"
    }
   ],
   "source": [
    "answ_dict('Екатеринбург', 5)"
   ]
  }
 ],
 "metadata": {
  "kernelspec": {
   "display_name": "Python 3 (ipykernel)",
   "language": "python",
   "name": "python3"
  },
  "language_info": {
   "codemirror_mode": {
    "name": "ipython",
    "version": 3
   },
   "file_extension": ".py",
   "mimetype": "text/x-python",
   "name": "python",
   "nbconvert_exporter": "python",
   "pygments_lexer": "ipython3",
   "version": "3.10.13"
  }
 },
 "nbformat": 4,
 "nbformat_minor": 5
}
